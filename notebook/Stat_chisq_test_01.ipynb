{
 "cells": [
  {
   "cell_type": "markdown",
   "metadata": {},
   "source": [
    "# 독립성 검정"
   ]
  },
  {
   "cell_type": "markdown",
   "metadata": {},
   "source": [
    "--------------\n",
    "\n",
    "* 독립 기준 <br>\n",
    "$H_0$: 두 집단은 서로 독립이다. <br>\n",
    "$H_1$: 두 집단은 서로 독립이 아니다. <br>\n",
    "<br>\n",
    "* 연관 기준 <br>\n",
    "$H_0$: 두 집단은 서로 연관이 없다. <br>\n",
    "$H_1$: 두 집단은 서로 연관이 있다. \n",
    "\n",
    "---------------"
   ]
  },
  {
   "cell_type": "markdown",
   "metadata": {},
   "source": [
    "독립성 검정은 카이제곱(Chisq) 검정을 실시하며 scipy모듈을 활용할 수 있다."
   ]
  },
  {
   "cell_type": "code",
   "execution_count": 10,
   "metadata": {},
   "outputs": [],
   "source": [
    "from scipy.stats import chi2_contingency"
   ]
  },
  {
   "cell_type": "markdown",
   "metadata": {},
   "source": [
    "해당 모듈의 함수를 사용하기 위해서는 데이터를 table형태(contingency table)의 가공이 선행되어야 한다.<br>\n",
    "table형태로의 가공을 위해 pandas의 crosstab() 함수를 사용하는 것을 권장한다."
   ]
  },
  {
   "cell_type": "markdown",
   "metadata": {},
   "source": [
    "chi2_contingency() 함수의 결과는 다음의 순서로 제공된다.\n",
    "\n",
    "1. chi2(float): The test statistic.\n",
    "2. p-value(float): The p-value of the test\n",
    "3. df(int): Degrees of freedom\n",
    "4. expected(ndarray): The expected frequencies, based on the marginal sums of the table."
   ]
  },
  {
   "cell_type": "raw",
   "metadata": {},
   "source": [
    "## traffic_accident.txt 파일을 \"\\t\" 구분자 기반으로 다음 문제를 풀이하시오."
   ]
  },
  {
   "cell_type": "code",
   "execution_count": 6,
   "metadata": {},
   "outputs": [
    {
     "data": {
      "text/html": [
       "<div>\n",
       "<style scoped>\n",
       "    .dataframe tbody tr th:only-of-type {\n",
       "        vertical-align: middle;\n",
       "    }\n",
       "\n",
       "    .dataframe tbody tr th {\n",
       "        vertical-align: top;\n",
       "    }\n",
       "\n",
       "    .dataframe thead th {\n",
       "        text-align: right;\n",
       "    }\n",
       "</style>\n",
       "<table border=\"1\" class=\"dataframe\">\n",
       "  <thead>\n",
       "    <tr style=\"text-align: right;\">\n",
       "      <th></th>\n",
       "      <th>seq</th>\n",
       "      <th>sex</th>\n",
       "      <th>serious_yn</th>\n",
       "      <th>age</th>\n",
       "    </tr>\n",
       "  </thead>\n",
       "  <tbody>\n",
       "    <tr>\n",
       "      <th>0</th>\n",
       "      <td>1</td>\n",
       "      <td>M</td>\n",
       "      <td>N</td>\n",
       "      <td>3</td>\n",
       "    </tr>\n",
       "    <tr>\n",
       "      <th>1</th>\n",
       "      <td>2</td>\n",
       "      <td>M</td>\n",
       "      <td>N</td>\n",
       "      <td>6</td>\n",
       "    </tr>\n",
       "    <tr>\n",
       "      <th>2</th>\n",
       "      <td>3</td>\n",
       "      <td>M</td>\n",
       "      <td>N</td>\n",
       "      <td>4</td>\n",
       "    </tr>\n",
       "    <tr>\n",
       "      <th>3</th>\n",
       "      <td>4</td>\n",
       "      <td>M</td>\n",
       "      <td>N</td>\n",
       "      <td>4</td>\n",
       "    </tr>\n",
       "    <tr>\n",
       "      <th>4</th>\n",
       "      <td>5</td>\n",
       "      <td>F</td>\n",
       "      <td>N</td>\n",
       "      <td>3</td>\n",
       "    </tr>\n",
       "    <tr>\n",
       "      <th>...</th>\n",
       "      <td>...</td>\n",
       "      <td>...</td>\n",
       "      <td>...</td>\n",
       "      <td>...</td>\n",
       "    </tr>\n",
       "    <tr>\n",
       "      <th>1062</th>\n",
       "      <td>1063</td>\n",
       "      <td>F</td>\n",
       "      <td>N</td>\n",
       "      <td>6</td>\n",
       "    </tr>\n",
       "    <tr>\n",
       "      <th>1063</th>\n",
       "      <td>1064</td>\n",
       "      <td>M</td>\n",
       "      <td>N</td>\n",
       "      <td>4</td>\n",
       "    </tr>\n",
       "    <tr>\n",
       "      <th>1064</th>\n",
       "      <td>1065</td>\n",
       "      <td>M</td>\n",
       "      <td>N</td>\n",
       "      <td>6</td>\n",
       "    </tr>\n",
       "    <tr>\n",
       "      <th>1065</th>\n",
       "      <td>1066</td>\n",
       "      <td>F</td>\n",
       "      <td>N</td>\n",
       "      <td>6</td>\n",
       "    </tr>\n",
       "    <tr>\n",
       "      <th>1066</th>\n",
       "      <td>1067</td>\n",
       "      <td>F</td>\n",
       "      <td>N</td>\n",
       "      <td>3</td>\n",
       "    </tr>\n",
       "  </tbody>\n",
       "</table>\n",
       "<p>1067 rows × 4 columns</p>\n",
       "</div>"
      ],
      "text/plain": [
       "       seq sex serious_yn  age\n",
       "0        1   M          N    3\n",
       "1        2   M          N    6\n",
       "2        3   M          N    4\n",
       "3        4   M          N    4\n",
       "4        5   F          N    3\n",
       "...    ...  ..        ...  ...\n",
       "1062  1063   F          N    6\n",
       "1063  1064   M          N    4\n",
       "1064  1065   M          N    6\n",
       "1065  1066   F          N    6\n",
       "1066  1067   F          N    3\n",
       "\n",
       "[1067 rows x 4 columns]"
      ]
     },
     "execution_count": 6,
     "metadata": {},
     "output_type": "execute_result"
    }
   ],
   "source": [
    "import pandas as pd\n",
    "\n",
    "df = pd.read_csv(\"../edu_SDS_python_2020/traffic_accident.txt\", sep=\"\\t\")\n",
    "df"
   ]
  },
  {
   "cell_type": "markdown",
   "metadata": {},
   "source": [
    "#### [문제 1] 교통사고 심각도(serious_yn)여부가 성별(sex)과 관계가 있는지 알아보시오.\n",
    "(단, 독립성 검정 함수에서 correction = False 로 설정한다.)"
   ]
  },
  {
   "cell_type": "code",
   "execution_count": 19,
   "metadata": {},
   "outputs": [
    {
     "data": {
      "text/plain": [
       "(4.248074934656112,\n",
       " 0.03929484927552679,\n",
       " 1,\n",
       " array([[286.99343955, 679.00656045],\n",
       "        [ 30.00656045,  70.99343955]]))"
      ]
     },
     "execution_count": 19,
     "metadata": {},
     "output_type": "execute_result"
    }
   ],
   "source": [
    "cross_tab = pd.crosstab(df[\"serious_yn\"], df[\"sex\"])\n",
    "cross_tab\n",
    "chi2_contingency(pd.crosstab(df[\"serious_yn\"], df[\"sex\"]), correction = False)"
   ]
  },
  {
   "cell_type": "markdown",
   "metadata": {},
   "source": [
    "#### [문제 2] 교통사고 심각도(serious_yn)여부가 나이(age)와 관계가 있는지 알아보시오."
   ]
  },
  {
   "cell_type": "code",
   "execution_count": 18,
   "metadata": {},
   "outputs": [
    {
     "data": {
      "text/plain": [
       "(9.410466679276956,\n",
       " 0.051619825959927854,\n",
       " 4,\n",
       " array([[193.74320525, 199.17525773, 209.13402062, 186.5004686 ,\n",
       "         177.4470478 ],\n",
       "        [ 20.25679475,  20.82474227,  21.86597938,  19.4995314 ,\n",
       "          18.5529522 ]]))"
      ]
     },
     "execution_count": 18,
     "metadata": {},
     "output_type": "execute_result"
    }
   ],
   "source": [
    "chi2_contingency(pd.crosstab(df[\"serious_yn\"], df[\"age\"]), correction = False)"
   ]
  }
 ],
 "metadata": {
  "kernelspec": {
   "display_name": "venvPy3",
   "language": "python",
   "name": "venvpy3"
  },
  "language_info": {
   "codemirror_mode": {
    "name": "ipython",
    "version": 3
   },
   "file_extension": ".py",
   "mimetype": "text/x-python",
   "name": "python",
   "nbconvert_exporter": "python",
   "pygments_lexer": "ipython3",
   "version": "3.6.8"
  }
 },
 "nbformat": 4,
 "nbformat_minor": 2
}
