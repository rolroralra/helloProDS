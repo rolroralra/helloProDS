{
 "cells": [
  {
   "cell_type": "markdown",
   "metadata": {},
   "source": [
    "# 다음 문제를 풀이하시오"
   ]
  },
  {
   "cell_type": "markdown",
   "metadata": {},
   "source": [
    "### Q1. Pandas, sklearn 모듈을 불러오시오."
   ]
  },
  {
   "cell_type": "code",
   "execution_count": 61,
   "metadata": {},
   "outputs": [],
   "source": [
    "import pandas as pd\n",
    "import sklearn\n",
    "import numpy as np"
   ]
  },
  {
   "cell_type": "markdown",
   "metadata": {},
   "source": [
    "### Q2. \"diabetes.csv\" 파일을 읽어와서 df 객체에 저장하시오"
   ]
  },
  {
   "cell_type": "code",
   "execution_count": 2,
   "metadata": {},
   "outputs": [
    {
     "data": {
      "text/html": [
       "<div>\n",
       "<style scoped>\n",
       "    .dataframe tbody tr th:only-of-type {\n",
       "        vertical-align: middle;\n",
       "    }\n",
       "\n",
       "    .dataframe tbody tr th {\n",
       "        vertical-align: top;\n",
       "    }\n",
       "\n",
       "    .dataframe thead th {\n",
       "        text-align: right;\n",
       "    }\n",
       "</style>\n",
       "<table border=\"1\" class=\"dataframe\">\n",
       "  <thead>\n",
       "    <tr style=\"text-align: right;\">\n",
       "      <th></th>\n",
       "      <th>Pregnancies</th>\n",
       "      <th>Glucose</th>\n",
       "      <th>BloodPressure</th>\n",
       "      <th>SkinThickness</th>\n",
       "      <th>Insulin</th>\n",
       "      <th>BMI</th>\n",
       "      <th>DiabetesPedigreeFunction</th>\n",
       "      <th>Age</th>\n",
       "      <th>Outcome</th>\n",
       "    </tr>\n",
       "  </thead>\n",
       "  <tbody>\n",
       "    <tr>\n",
       "      <th>0</th>\n",
       "      <td>6</td>\n",
       "      <td>148</td>\n",
       "      <td>72</td>\n",
       "      <td>35</td>\n",
       "      <td>0</td>\n",
       "      <td>33.6</td>\n",
       "      <td>0.627</td>\n",
       "      <td>50</td>\n",
       "      <td>1</td>\n",
       "    </tr>\n",
       "    <tr>\n",
       "      <th>1</th>\n",
       "      <td>1</td>\n",
       "      <td>85</td>\n",
       "      <td>66</td>\n",
       "      <td>29</td>\n",
       "      <td>0</td>\n",
       "      <td>26.6</td>\n",
       "      <td>0.351</td>\n",
       "      <td>31</td>\n",
       "      <td>0</td>\n",
       "    </tr>\n",
       "    <tr>\n",
       "      <th>2</th>\n",
       "      <td>8</td>\n",
       "      <td>183</td>\n",
       "      <td>64</td>\n",
       "      <td>0</td>\n",
       "      <td>0</td>\n",
       "      <td>23.3</td>\n",
       "      <td>0.672</td>\n",
       "      <td>32</td>\n",
       "      <td>1</td>\n",
       "    </tr>\n",
       "    <tr>\n",
       "      <th>3</th>\n",
       "      <td>1</td>\n",
       "      <td>89</td>\n",
       "      <td>66</td>\n",
       "      <td>23</td>\n",
       "      <td>94</td>\n",
       "      <td>28.1</td>\n",
       "      <td>0.167</td>\n",
       "      <td>21</td>\n",
       "      <td>0</td>\n",
       "    </tr>\n",
       "    <tr>\n",
       "      <th>4</th>\n",
       "      <td>0</td>\n",
       "      <td>137</td>\n",
       "      <td>40</td>\n",
       "      <td>35</td>\n",
       "      <td>168</td>\n",
       "      <td>43.1</td>\n",
       "      <td>2.288</td>\n",
       "      <td>33</td>\n",
       "      <td>1</td>\n",
       "    </tr>\n",
       "    <tr>\n",
       "      <th>...</th>\n",
       "      <td>...</td>\n",
       "      <td>...</td>\n",
       "      <td>...</td>\n",
       "      <td>...</td>\n",
       "      <td>...</td>\n",
       "      <td>...</td>\n",
       "      <td>...</td>\n",
       "      <td>...</td>\n",
       "      <td>...</td>\n",
       "    </tr>\n",
       "    <tr>\n",
       "      <th>763</th>\n",
       "      <td>10</td>\n",
       "      <td>101</td>\n",
       "      <td>76</td>\n",
       "      <td>48</td>\n",
       "      <td>180</td>\n",
       "      <td>32.9</td>\n",
       "      <td>0.171</td>\n",
       "      <td>63</td>\n",
       "      <td>0</td>\n",
       "    </tr>\n",
       "    <tr>\n",
       "      <th>764</th>\n",
       "      <td>2</td>\n",
       "      <td>122</td>\n",
       "      <td>70</td>\n",
       "      <td>27</td>\n",
       "      <td>0</td>\n",
       "      <td>36.8</td>\n",
       "      <td>0.340</td>\n",
       "      <td>27</td>\n",
       "      <td>0</td>\n",
       "    </tr>\n",
       "    <tr>\n",
       "      <th>765</th>\n",
       "      <td>5</td>\n",
       "      <td>121</td>\n",
       "      <td>72</td>\n",
       "      <td>23</td>\n",
       "      <td>112</td>\n",
       "      <td>26.2</td>\n",
       "      <td>0.245</td>\n",
       "      <td>30</td>\n",
       "      <td>0</td>\n",
       "    </tr>\n",
       "    <tr>\n",
       "      <th>766</th>\n",
       "      <td>1</td>\n",
       "      <td>126</td>\n",
       "      <td>60</td>\n",
       "      <td>0</td>\n",
       "      <td>0</td>\n",
       "      <td>30.1</td>\n",
       "      <td>0.349</td>\n",
       "      <td>47</td>\n",
       "      <td>1</td>\n",
       "    </tr>\n",
       "    <tr>\n",
       "      <th>767</th>\n",
       "      <td>1</td>\n",
       "      <td>93</td>\n",
       "      <td>70</td>\n",
       "      <td>31</td>\n",
       "      <td>0</td>\n",
       "      <td>30.4</td>\n",
       "      <td>0.315</td>\n",
       "      <td>23</td>\n",
       "      <td>0</td>\n",
       "    </tr>\n",
       "  </tbody>\n",
       "</table>\n",
       "<p>768 rows × 9 columns</p>\n",
       "</div>"
      ],
      "text/plain": [
       "     Pregnancies  Glucose  BloodPressure  SkinThickness  Insulin   BMI  \\\n",
       "0              6      148             72             35        0  33.6   \n",
       "1              1       85             66             29        0  26.6   \n",
       "2              8      183             64              0        0  23.3   \n",
       "3              1       89             66             23       94  28.1   \n",
       "4              0      137             40             35      168  43.1   \n",
       "..           ...      ...            ...            ...      ...   ...   \n",
       "763           10      101             76             48      180  32.9   \n",
       "764            2      122             70             27        0  36.8   \n",
       "765            5      121             72             23      112  26.2   \n",
       "766            1      126             60              0        0  30.1   \n",
       "767            1       93             70             31        0  30.4   \n",
       "\n",
       "     DiabetesPedigreeFunction  Age  Outcome  \n",
       "0                       0.627   50        1  \n",
       "1                       0.351   31        0  \n",
       "2                       0.672   32        1  \n",
       "3                       0.167   21        0  \n",
       "4                       2.288   33        1  \n",
       "..                        ...  ...      ...  \n",
       "763                     0.171   63        0  \n",
       "764                     0.340   27        0  \n",
       "765                     0.245   30        0  \n",
       "766                     0.349   47        1  \n",
       "767                     0.315   23        0  \n",
       "\n",
       "[768 rows x 9 columns]"
      ]
     },
     "execution_count": 2,
     "metadata": {},
     "output_type": "execute_result"
    }
   ],
   "source": [
    "df = pd.read_csv(\"../data/diabetes.csv\")\n",
    "df"
   ]
  },
  {
   "cell_type": "markdown",
   "metadata": {},
   "source": [
    "### Q3. 데이터프레임의 sample() 메서드를 사용하여 학습 데이터세트와 평가 데이터세트를 7:3으로 분리하여 각각 df_train, df_test 객체에 저장하시오.\n",
    "※ 단, random_state는 123으로 설정한다."
   ]
  },
  {
   "cell_type": "code",
   "execution_count": 84,
   "metadata": {},
   "outputs": [
    {
     "data": {
      "text/plain": [
       "768"
      ]
     },
     "execution_count": 84,
     "metadata": {},
     "output_type": "execute_result"
    }
   ],
   "source": [
    "from sklearn.model_selection import train_test_split\n",
    "\n",
    "## Way 1\n",
    "df_test = df.sample(frac=0.3, random_state=123).sort_index()\n",
    "df_train = df.drop(df_test.index)\n",
    "df_train_2 = df.loc[~df.index.isin(df_test.index), :]\n",
    "df_test.head()\n",
    "df_train.head()\n",
    "\n",
    "\n",
    "x = df.drop(\"Outcome\", axis=1)\n",
    "y = df[\"Outcome\"]\n"
   ]
  },
  {
   "cell_type": "code",
   "execution_count": 25,
   "metadata": {},
   "outputs": [
    {
     "data": {
      "text/plain": [
       "array([ True,  True,  True,  True, False])"
      ]
     },
     "execution_count": 25,
     "metadata": {},
     "output_type": "execute_result"
    }
   ],
   "source": [
    "df.index.isin(df_test.index)[:5]"
   ]
  },
  {
   "cell_type": "code",
   "execution_count": 27,
   "metadata": {},
   "outputs": [
    {
     "data": {
      "text/plain": [
       "array([False, False, False, False,  True])"
      ]
     },
     "execution_count": 27,
     "metadata": {},
     "output_type": "execute_result"
    }
   ],
   "source": [
    "~df.index.isin(df_test.index)[:5]"
   ]
  },
  {
   "cell_type": "code",
   "execution_count": 52,
   "metadata": {},
   "outputs": [
    {
     "data": {
      "text/plain": [
       "True"
      ]
     },
     "execution_count": 52,
     "metadata": {},
     "output_type": "execute_result"
    }
   ],
   "source": [
    "df_test_2 = df.loc[~df.index.isin(df_train.index),:]\n",
    "df_test_2.index\n",
    "(df_test.index.sort_values() == df_test_2.index.sort_values()).sum() + df_train.shape[0] == df.shape[0]"
   ]
  },
  {
   "cell_type": "markdown",
   "metadata": {},
   "source": [
    "### Q4. df_train객체의 row 개수와 df_test객체의 row 개수의 합이 df 객체의 row 개수와 같음을 보이시오."
   ]
  },
  {
   "cell_type": "code",
   "execution_count": 58,
   "metadata": {},
   "outputs": [
    {
     "data": {
      "text/plain": [
       "True"
      ]
     },
     "execution_count": 58,
     "metadata": {},
     "output_type": "execute_result"
    }
   ],
   "source": [
    "df_train.shape[0] + df_test.shape[0] == df.shape[0]"
   ]
  },
  {
   "cell_type": "code",
   "execution_count": 71,
   "metadata": {},
   "outputs": [
    {
     "data": {
      "text/plain": [
       "768"
      ]
     },
     "execution_count": 71,
     "metadata": {},
     "output_type": "execute_result"
    }
   ],
   "source": [
    "arr = df_test.index.to_list()\n",
    "arr.extend(df_train.index.to_list())\n",
    "arr.sort()"
   ]
  },
  {
   "cell_type": "markdown",
   "metadata": {},
   "source": [
    "### Q5. 의사결정나무 분류기를 clf 객체에 저장하시오."
   ]
  },
  {
   "cell_type": "code",
   "execution_count": 12,
   "metadata": {},
   "outputs": [],
   "source": [
    "from sklearn import tree\n",
    "\n",
    "clf = tree.DecisionTreeClassifier()"
   ]
  },
  {
   "cell_type": "markdown",
   "metadata": {},
   "source": [
    "### Q6. df_train 데이터의 \"Outcome\" 변수를 종속변수로, 나머지 변수를 독립변수로 할당하여 모델을 적합하시오.\n",
    "※ fit() 메서드 사용"
   ]
  },
  {
   "cell_type": "code",
   "execution_count": 85,
   "metadata": {},
   "outputs": [
    {
     "data": {
      "text/plain": [
       "DecisionTreeClassifier()"
      ]
     },
     "execution_count": 85,
     "metadata": {},
     "output_type": "execute_result"
    }
   ],
   "source": [
    "## Way 1\n",
    "x_test = df_test.drop(\"Outcome\", axis=1)\n",
    "y_test = df_test[\"Outcome\"]\n",
    "x_train = df_train.drop(\"Outcome\", axis=1)\n",
    "y_train = df_train[\"Outcome\"]\n",
    "\n",
    "\n",
    "## Way 2\n",
    "# x_train, x_test, y_train, y_test = train_test_split(x, y, test_size=0.3, random_state=123)\n",
    "# x_train.shape[0] + x_test.shape[0]\n",
    "\n",
    "clf.fit(x_train, y_train)"
   ]
  },
  {
   "cell_type": "markdown",
   "metadata": {},
   "source": [
    "### Q7. df_test의 데이터를 사용하여 모델의 예측값을 pred 객체에 저장하고 그 길이가 df_test 객체의 row 개수와 일치하는지 확인하시오."
   ]
  },
  {
   "cell_type": "code",
   "execution_count": 87,
   "metadata": {},
   "outputs": [
    {
     "data": {
      "text/plain": [
       "164"
      ]
     },
     "execution_count": 87,
     "metadata": {},
     "output_type": "execute_result"
    }
   ],
   "source": [
    "y_pred = clf.predict(x_test)\n",
    "(y_test == y_pred).sum()"
   ]
  },
  {
   "cell_type": "markdown",
   "metadata": {},
   "source": [
    "### Q8. sklearn 모듈의 metrics를 활용하여 accuract, precsion, recall, f1 score 를 확인하시오."
   ]
  },
  {
   "cell_type": "code",
   "execution_count": 88,
   "metadata": {},
   "outputs": [
    {
     "name": "stdout",
     "output_type": "stream",
     "text": [
      "accuracy_score: 0.70995670995671\n",
      "precision_score: 0.6265060240963856\n",
      "recall_score: 0.5909090909090909\n",
      "f1_score: 0.6081871345029239\n"
     ]
    }
   ],
   "source": [
    "import sklearn.metrics as metrics\n",
    "\n",
    "print(f\"accuracy_score: {metrics.accuracy_score(y_test, y_pred)}\")\n",
    "print(f\"precision_score: {metrics.precision_score(y_test, y_pred)}\")\n",
    "print(f\"recall_score: {metrics.recall_score(y_test, y_pred)}\")\n",
    "print(f\"f1_score: {metrics.f1_score(y_test, y_pred)}\")\n",
    "\n",
    "# accuracy_score: 0.6956521739130435\n",
    "# precision_score: 0.6071428571428571\n",
    "# recall_score: 0.5795454545454546\n",
    "# f1_score: 0.5930232558139534"
   ]
  },
  {
   "cell_type": "markdown",
   "metadata": {},
   "source": [
    "### export_text() 함수를 사용하여 다음을 확인하시오."
   ]
  },
  {
   "cell_type": "code",
   "execution_count": 22,
   "metadata": {},
   "outputs": [
    {
     "name": "stderr",
     "output_type": "stream",
     "text": [
      "/home/rolroralra/venv/lib/python3.6/site-packages/sklearn/utils/deprecation.py:143: FutureWarning: The sklearn.tree.export module is  deprecated in version 0.22 and will be removed in version 0.24. The corresponding classes / functions should instead be imported from sklearn.tree. Anything that cannot be imported from sklearn.tree is now part of the private API.\n",
      "  warnings.warn(message, FutureWarning)\n"
     ]
    }
   ],
   "source": [
    "from sklearn.tree.export import export_text\n",
    "result = export_text(clf, feature_names=df_train.columns[:-1].values.tolist())"
   ]
  },
  {
   "cell_type": "code",
   "execution_count": 23,
   "metadata": {},
   "outputs": [
    {
     "name": "stdout",
     "output_type": "stream",
     "text": [
      "|--- Glucose <= 154.50\n",
      "|   |--- BMI <= 26.35\n",
      "|   |   |--- Age <= 59.00\n",
      "|   |   |   |--- DiabetesPedigreeFunction <= 0.68\n",
      "|   |   |   |   |--- class: 0\n",
      "|   |   |   |--- DiabetesPedigreeFunction >  0.68\n",
      "|   |   |   |   |--- DiabetesPedigreeFunction <= 0.69\n",
      "|   |   |   |   |   |--- class: 1\n",
      "|   |   |   |   |--- DiabetesPedigreeFunction >  0.69\n",
      "|   |   |   |   |   |--- class: 0\n",
      "|   |   |--- Age >  59.00\n",
      "|   |   |   |--- DiabetesPedigreeFunction <= 0.34\n",
      "|   |   |   |   |--- class: 1\n",
      "|   |   |   |--- DiabetesPedigreeFunction >  0.34\n",
      "|   |   |   |   |--- class: 0\n",
      "|   |--- BMI >  26.35\n",
      "|   |   |--- Age <= 30.50\n",
      "|   |   |   |--- Glucose <= 116.50\n",
      "|   |   |   |   |--- DiabetesPedigreeFunction <= 0.74\n",
      "|   |   |   |   |   |--- BMI <= 50.15\n",
      "|   |   |   |   |   |   |--- SkinThickness <= 23.50\n",
      "|   |   |   |   |   |   |   |--- class: 0\n",
      "|   |   |   |   |   |   |--- SkinThickness >  23.50\n",
      "|   |   |   |   |   |   |   |--- SkinThickness <= 24.50\n",
      "|   |   |   |   |   |   |   |   |--- class: 1\n",
      "|   |   |   |   |   |   |   |--- SkinThickness >  24.50\n",
      "|   |   |   |   |   |   |   |   |--- Glucose <= 108.50\n",
      "|   |   |   |   |   |   |   |   |   |--- BloodPressure <= 51.00\n",
      "|   |   |   |   |   |   |   |   |   |   |--- Glucose <= 85.50\n",
      "|   |   |   |   |   |   |   |   |   |   |   |--- class: 1\n",
      "|   |   |   |   |   |   |   |   |   |   |--- Glucose >  85.50\n",
      "|   |   |   |   |   |   |   |   |   |   |   |--- class: 0\n",
      "|   |   |   |   |   |   |   |   |   |--- BloodPressure >  51.00\n",
      "|   |   |   |   |   |   |   |   |   |   |--- BMI <= 37.30\n",
      "|   |   |   |   |   |   |   |   |   |   |   |--- class: 0\n",
      "|   |   |   |   |   |   |   |   |   |   |--- BMI >  37.30\n",
      "|   |   |   |   |   |   |   |   |   |   |   |--- truncated branch of depth 5\n",
      "|   |   |   |   |   |   |   |   |--- Glucose >  108.50\n",
      "|   |   |   |   |   |   |   |   |   |--- Insulin <= 130.50\n",
      "|   |   |   |   |   |   |   |   |   |   |--- BloodPressure <= 60.00\n",
      "|   |   |   |   |   |   |   |   |   |   |   |--- class: 0\n",
      "|   |   |   |   |   |   |   |   |   |   |--- BloodPressure >  60.00\n",
      "|   |   |   |   |   |   |   |   |   |   |   |--- truncated branch of depth 2\n",
      "|   |   |   |   |   |   |   |   |   |--- Insulin >  130.50\n",
      "|   |   |   |   |   |   |   |   |   |   |--- class: 0\n",
      "|   |   |   |   |   |--- BMI >  50.15\n",
      "|   |   |   |   |   |   |--- class: 1\n",
      "|   |   |   |   |--- DiabetesPedigreeFunction >  0.74\n",
      "|   |   |   |   |   |--- Insulin <= 67.50\n",
      "|   |   |   |   |   |   |--- class: 0\n",
      "|   |   |   |   |   |--- Insulin >  67.50\n",
      "|   |   |   |   |   |   |--- Age <= 24.50\n",
      "|   |   |   |   |   |   |   |--- class: 0\n",
      "|   |   |   |   |   |   |--- Age >  24.50\n",
      "|   |   |   |   |   |   |   |--- class: 1\n",
      "|   |   |   |--- Glucose >  116.50\n",
      "|   |   |   |   |--- BloodPressure <= 22.00\n",
      "|   |   |   |   |   |--- class: 1\n",
      "|   |   |   |   |--- BloodPressure >  22.00\n",
      "|   |   |   |   |   |--- DiabetesPedigreeFunction <= 1.13\n",
      "|   |   |   |   |   |   |--- BloodPressure <= 81.00\n",
      "|   |   |   |   |   |   |   |--- BloodPressure <= 79.00\n",
      "|   |   |   |   |   |   |   |   |--- Glucose <= 123.50\n",
      "|   |   |   |   |   |   |   |   |   |--- DiabetesPedigreeFunction <= 0.17\n",
      "|   |   |   |   |   |   |   |   |   |   |--- class: 1\n",
      "|   |   |   |   |   |   |   |   |   |--- DiabetesPedigreeFunction >  0.17\n",
      "|   |   |   |   |   |   |   |   |   |   |--- BMI <= 29.75\n",
      "|   |   |   |   |   |   |   |   |   |   |   |--- truncated branch of depth 2\n",
      "|   |   |   |   |   |   |   |   |   |   |--- BMI >  29.75\n",
      "|   |   |   |   |   |   |   |   |   |   |   |--- class: 0\n",
      "|   |   |   |   |   |   |   |   |--- Glucose >  123.50\n",
      "|   |   |   |   |   |   |   |   |   |--- Age <= 22.50\n",
      "|   |   |   |   |   |   |   |   |   |   |--- SkinThickness <= 33.50\n",
      "|   |   |   |   |   |   |   |   |   |   |   |--- class: 0\n",
      "|   |   |   |   |   |   |   |   |   |   |--- SkinThickness >  33.50\n",
      "|   |   |   |   |   |   |   |   |   |   |   |--- truncated branch of depth 2\n",
      "|   |   |   |   |   |   |   |   |   |--- Age >  22.50\n",
      "|   |   |   |   |   |   |   |   |   |   |--- BloodPressure <= 73.00\n",
      "|   |   |   |   |   |   |   |   |   |   |   |--- truncated branch of depth 4\n",
      "|   |   |   |   |   |   |   |   |   |   |--- BloodPressure >  73.00\n",
      "|   |   |   |   |   |   |   |   |   |   |   |--- class: 0\n",
      "|   |   |   |   |   |   |   |--- BloodPressure >  79.00\n",
      "|   |   |   |   |   |   |   |   |--- SkinThickness <= 36.00\n",
      "|   |   |   |   |   |   |   |   |   |--- class: 1\n",
      "|   |   |   |   |   |   |   |   |--- SkinThickness >  36.00\n",
      "|   |   |   |   |   |   |   |   |   |--- class: 0\n",
      "|   |   |   |   |   |   |--- BloodPressure >  81.00\n",
      "|   |   |   |   |   |   |   |--- BMI <= 45.45\n",
      "|   |   |   |   |   |   |   |   |--- BloodPressure <= 89.00\n",
      "|   |   |   |   |   |   |   |   |   |--- class: 0\n",
      "|   |   |   |   |   |   |   |   |--- BloodPressure >  89.00\n",
      "|   |   |   |   |   |   |   |   |   |--- Insulin <= 72.50\n",
      "|   |   |   |   |   |   |   |   |   |   |--- class: 1\n",
      "|   |   |   |   |   |   |   |   |   |--- Insulin >  72.50\n",
      "|   |   |   |   |   |   |   |   |   |   |--- class: 0\n",
      "|   |   |   |   |   |   |   |--- BMI >  45.45\n",
      "|   |   |   |   |   |   |   |   |--- class: 1\n",
      "|   |   |   |   |   |--- DiabetesPedigreeFunction >  1.13\n",
      "|   |   |   |   |   |   |--- class: 1\n",
      "|   |   |--- Age >  30.50\n",
      "|   |   |   |--- Glucose <= 94.50\n",
      "|   |   |   |   |--- Glucose <= 28.50\n",
      "|   |   |   |   |   |--- class: 1\n",
      "|   |   |   |   |--- Glucose >  28.50\n",
      "|   |   |   |   |   |--- DiabetesPedigreeFunction <= 1.16\n",
      "|   |   |   |   |   |   |--- Pregnancies <= 11.50\n",
      "|   |   |   |   |   |   |   |--- class: 0\n",
      "|   |   |   |   |   |   |--- Pregnancies >  11.50\n",
      "|   |   |   |   |   |   |   |--- BMI <= 31.25\n",
      "|   |   |   |   |   |   |   |   |--- class: 1\n",
      "|   |   |   |   |   |   |   |--- BMI >  31.25\n",
      "|   |   |   |   |   |   |   |   |--- class: 0\n",
      "|   |   |   |   |   |--- DiabetesPedigreeFunction >  1.16\n",
      "|   |   |   |   |   |   |--- class: 1\n",
      "|   |   |   |--- Glucose >  94.50\n",
      "|   |   |   |   |--- Age <= 56.50\n",
      "|   |   |   |   |   |--- DiabetesPedigreeFunction <= 0.13\n",
      "|   |   |   |   |   |   |--- class: 0\n",
      "|   |   |   |   |   |--- DiabetesPedigreeFunction >  0.13\n",
      "|   |   |   |   |   |   |--- BMI <= 43.35\n",
      "|   |   |   |   |   |   |   |--- Glucose <= 152.50\n",
      "|   |   |   |   |   |   |   |   |--- Pregnancies <= 6.50\n",
      "|   |   |   |   |   |   |   |   |   |--- Glucose <= 107.50\n",
      "|   |   |   |   |   |   |   |   |   |   |--- SkinThickness <= 28.00\n",
      "|   |   |   |   |   |   |   |   |   |   |   |--- truncated branch of depth 3\n",
      "|   |   |   |   |   |   |   |   |   |   |--- SkinThickness >  28.00\n",
      "|   |   |   |   |   |   |   |   |   |   |   |--- class: 0\n",
      "|   |   |   |   |   |   |   |   |   |--- Glucose >  107.50\n",
      "|   |   |   |   |   |   |   |   |   |   |--- Insulin <= 217.50\n",
      "|   |   |   |   |   |   |   |   |   |   |   |--- truncated branch of depth 8\n",
      "|   |   |   |   |   |   |   |   |   |   |--- Insulin >  217.50\n",
      "|   |   |   |   |   |   |   |   |   |   |   |--- class: 0\n",
      "|   |   |   |   |   |   |   |   |--- Pregnancies >  6.50\n",
      "|   |   |   |   |   |   |   |   |   |--- DiabetesPedigreeFunction <= 0.40\n",
      "|   |   |   |   |   |   |   |   |   |   |--- DiabetesPedigreeFunction <= 0.28\n",
      "|   |   |   |   |   |   |   |   |   |   |   |--- truncated branch of depth 4\n",
      "|   |   |   |   |   |   |   |   |   |   |--- DiabetesPedigreeFunction >  0.28\n",
      "|   |   |   |   |   |   |   |   |   |   |   |--- class: 0\n",
      "|   |   |   |   |   |   |   |   |   |--- DiabetesPedigreeFunction >  0.40\n",
      "|   |   |   |   |   |   |   |   |   |   |--- BloodPressure <= 82.00\n",
      "|   |   |   |   |   |   |   |   |   |   |   |--- class: 1\n",
      "|   |   |   |   |   |   |   |   |   |   |--- BloodPressure >  82.00\n",
      "|   |   |   |   |   |   |   |   |   |   |   |--- truncated branch of depth 2\n",
      "|   |   |   |   |   |   |   |--- Glucose >  152.50\n",
      "|   |   |   |   |   |   |   |   |--- class: 0\n",
      "|   |   |   |   |   |   |--- BMI >  43.35\n",
      "|   |   |   |   |   |   |   |--- class: 1\n",
      "|   |   |   |   |--- Age >  56.50\n",
      "|   |   |   |   |   |--- BloodPressure <= 81.00\n",
      "|   |   |   |   |   |   |--- class: 0\n",
      "|   |   |   |   |   |--- BloodPressure >  81.00\n",
      "|   |   |   |   |   |   |--- Glucose <= 138.50\n",
      "|   |   |   |   |   |   |   |--- DiabetesPedigreeFunction <= 0.52\n",
      "|   |   |   |   |   |   |   |   |--- class: 0\n",
      "|   |   |   |   |   |   |   |--- DiabetesPedigreeFunction >  0.52\n",
      "|   |   |   |   |   |   |   |   |--- class: 1\n",
      "|   |   |   |   |   |   |--- Glucose >  138.50\n",
      "|   |   |   |   |   |   |   |--- class: 1\n",
      "|--- Glucose >  154.50\n",
      "|   |--- Glucose <= 166.50\n",
      "|   |   |--- SkinThickness <= 32.50\n",
      "|   |   |   |--- Age <= 53.50\n",
      "|   |   |   |   |--- Age <= 25.50\n",
      "|   |   |   |   |   |--- class: 0\n",
      "|   |   |   |   |--- Age >  25.50\n",
      "|   |   |   |   |   |--- BloodPressure <= 69.00\n",
      "|   |   |   |   |   |   |--- Insulin <= 171.50\n",
      "|   |   |   |   |   |   |   |--- class: 0\n",
      "|   |   |   |   |   |   |--- Insulin >  171.50\n",
      "|   |   |   |   |   |   |   |--- class: 1\n",
      "|   |   |   |   |   |--- BloodPressure >  69.00\n",
      "|   |   |   |   |   |   |--- class: 1\n",
      "|   |   |   |--- Age >  53.50\n",
      "|   |   |   |   |--- class: 0\n",
      "|   |   |--- SkinThickness >  32.50\n",
      "|   |   |   |--- class: 0\n",
      "|   |--- Glucose >  166.50\n",
      "|   |   |--- Insulin <= 661.50\n",
      "|   |   |   |--- Age <= 66.50\n",
      "|   |   |   |   |--- BMI <= 23.10\n",
      "|   |   |   |   |   |--- class: 0\n",
      "|   |   |   |   |--- BMI >  23.10\n",
      "|   |   |   |   |   |--- BloodPressure <= 93.00\n",
      "|   |   |   |   |   |   |--- BMI <= 45.50\n",
      "|   |   |   |   |   |   |   |--- BloodPressure <= 55.00\n",
      "|   |   |   |   |   |   |   |   |--- BMI <= 27.15\n",
      "|   |   |   |   |   |   |   |   |   |--- class: 0\n",
      "|   |   |   |   |   |   |   |   |--- BMI >  27.15\n",
      "|   |   |   |   |   |   |   |   |   |--- class: 1\n",
      "|   |   |   |   |   |   |   |--- BloodPressure >  55.00\n",
      "|   |   |   |   |   |   |   |   |--- class: 1\n",
      "|   |   |   |   |   |   |--- BMI >  45.50\n",
      "|   |   |   |   |   |   |   |--- BMI <= 47.20\n",
      "|   |   |   |   |   |   |   |   |--- class: 0\n",
      "|   |   |   |   |   |   |   |--- BMI >  47.20\n",
      "|   |   |   |   |   |   |   |   |--- class: 1\n",
      "|   |   |   |   |   |--- BloodPressure >  93.00\n",
      "|   |   |   |   |   |   |--- BloodPressure <= 99.50\n",
      "|   |   |   |   |   |   |   |--- class: 0\n",
      "|   |   |   |   |   |   |--- BloodPressure >  99.50\n",
      "|   |   |   |   |   |   |   |--- class: 1\n",
      "|   |   |   |--- Age >  66.50\n",
      "|   |   |   |   |--- class: 0\n",
      "|   |   |--- Insulin >  661.50\n",
      "|   |   |   |--- class: 0\n",
      "\n"
     ]
    }
   ],
   "source": [
    "print(result)"
   ]
  },
  {
   "cell_type": "code",
   "execution_count": null,
   "metadata": {},
   "outputs": [],
   "source": []
  }
 ],
 "metadata": {
  "kernelspec": {
   "display_name": "venvPy3",
   "language": "python",
   "name": "venvpy3"
  },
  "language_info": {
   "codemirror_mode": {
    "name": "ipython",
    "version": 3
   },
   "file_extension": ".py",
   "mimetype": "text/x-python",
   "name": "python",
   "nbconvert_exporter": "python",
   "pygments_lexer": "ipython3",
   "version": "3.6.8"
  }
 },
 "nbformat": 4,
 "nbformat_minor": 2
}
