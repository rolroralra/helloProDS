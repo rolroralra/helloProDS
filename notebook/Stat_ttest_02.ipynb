{
 "cells": [
  {
   "cell_type": "markdown",
   "metadata": {},
   "source": [
    "# 다음 문제를 풀이하시오"
   ]
  },
  {
   "cell_type": "markdown",
   "metadata": {},
   "source": [
    "### Q1. Pandas, Scipy의 stats 모듈을 불러오시오."
   ]
  },
  {
   "cell_type": "code",
   "execution_count": 1,
   "metadata": {},
   "outputs": [],
   "source": [
    "import pandas as pd\n",
    "import scipy.stats as stats\n",
    "import numpy as np"
   ]
  },
  {
   "cell_type": "markdown",
   "metadata": {},
   "source": [
    "### Q2. \"class_scores.csv\" 파일을 불러와서 df 객체에 저장하시오."
   ]
  },
  {
   "cell_type": "code",
   "execution_count": 3,
   "metadata": {},
   "outputs": [
    {
     "name": "stdout",
     "output_type": "stream",
     "text": [
      "<class 'pandas.core.frame.DataFrame'>\n",
      "RangeIndex: 600 entries, 0 to 599\n",
      "Data columns (total 9 columns):\n",
      " #   Column     Non-Null Count  Dtype \n",
      "---  ------     --------------  ----- \n",
      " 0   Stu_ID     600 non-null    int64 \n",
      " 1   grade      600 non-null    int64 \n",
      " 2   class      600 non-null    object\n",
      " 3   gender     600 non-null    object\n",
      " 4   Math       600 non-null    int64 \n",
      " 5   English    600 non-null    int64 \n",
      " 6   Science    600 non-null    int64 \n",
      " 7   Marketing  600 non-null    int64 \n",
      " 8   Writing    600 non-null    int64 \n",
      "dtypes: int64(7), object(2)\n",
      "memory usage: 42.3+ KB\n"
     ]
    },
    {
     "data": {
      "text/html": [
       "<div>\n",
       "<style scoped>\n",
       "    .dataframe tbody tr th:only-of-type {\n",
       "        vertical-align: middle;\n",
       "    }\n",
       "\n",
       "    .dataframe tbody tr th {\n",
       "        vertical-align: top;\n",
       "    }\n",
       "\n",
       "    .dataframe thead th {\n",
       "        text-align: right;\n",
       "    }\n",
       "</style>\n",
       "<table border=\"1\" class=\"dataframe\">\n",
       "  <thead>\n",
       "    <tr style=\"text-align: right;\">\n",
       "      <th></th>\n",
       "      <th>Stu_ID</th>\n",
       "      <th>grade</th>\n",
       "      <th>class</th>\n",
       "      <th>gender</th>\n",
       "      <th>Math</th>\n",
       "      <th>English</th>\n",
       "      <th>Science</th>\n",
       "      <th>Marketing</th>\n",
       "      <th>Writing</th>\n",
       "    </tr>\n",
       "  </thead>\n",
       "  <tbody>\n",
       "    <tr>\n",
       "      <th>0</th>\n",
       "      <td>10101</td>\n",
       "      <td>1</td>\n",
       "      <td>A</td>\n",
       "      <td>M</td>\n",
       "      <td>55</td>\n",
       "      <td>84</td>\n",
       "      <td>50</td>\n",
       "      <td>40</td>\n",
       "      <td>59</td>\n",
       "    </tr>\n",
       "    <tr>\n",
       "      <th>1</th>\n",
       "      <td>10102</td>\n",
       "      <td>1</td>\n",
       "      <td>A</td>\n",
       "      <td>M</td>\n",
       "      <td>29</td>\n",
       "      <td>94</td>\n",
       "      <td>41</td>\n",
       "      <td>87</td>\n",
       "      <td>57</td>\n",
       "    </tr>\n",
       "    <tr>\n",
       "      <th>2</th>\n",
       "      <td>10103</td>\n",
       "      <td>1</td>\n",
       "      <td>A</td>\n",
       "      <td>F</td>\n",
       "      <td>28</td>\n",
       "      <td>80</td>\n",
       "      <td>68</td>\n",
       "      <td>41</td>\n",
       "      <td>100</td>\n",
       "    </tr>\n",
       "    <tr>\n",
       "      <th>3</th>\n",
       "      <td>10104</td>\n",
       "      <td>1</td>\n",
       "      <td>A</td>\n",
       "      <td>F</td>\n",
       "      <td>45</td>\n",
       "      <td>74</td>\n",
       "      <td>48</td>\n",
       "      <td>88</td>\n",
       "      <td>75</td>\n",
       "    </tr>\n",
       "    <tr>\n",
       "      <th>4</th>\n",
       "      <td>10105</td>\n",
       "      <td>1</td>\n",
       "      <td>A</td>\n",
       "      <td>F</td>\n",
       "      <td>28</td>\n",
       "      <td>69</td>\n",
       "      <td>57</td>\n",
       "      <td>91</td>\n",
       "      <td>66</td>\n",
       "    </tr>\n",
       "  </tbody>\n",
       "</table>\n",
       "</div>"
      ],
      "text/plain": [
       "   Stu_ID  grade class gender  Math  English  Science  Marketing  Writing\n",
       "0   10101      1     A      M    55       84       50         40       59\n",
       "1   10102      1     A      M    29       94       41         87       57\n",
       "2   10103      1     A      F    28       80       68         41      100\n",
       "3   10104      1     A      F    45       74       48         88       75\n",
       "4   10105      1     A      F    28       69       57         91       66"
      ]
     },
     "execution_count": 3,
     "metadata": {},
     "output_type": "execute_result"
    }
   ],
   "source": [
    "df = pd.read_csv(\"../data/class_scores.csv\")\n",
    "df.info()\n",
    "df.head(5)"
   ]
  },
  {
   "cell_type": "markdown",
   "metadata": {},
   "source": [
    "### Q3. 성별에 따른 수학 점수의 차이를 확인하기 위해 독립 2표본 t검정을 실시하고 그 결과를 확인하시오."
   ]
  },
  {
   "cell_type": "code",
   "execution_count": 13,
   "metadata": {},
   "outputs": [
    {
     "data": {
      "text/plain": [
       "Ttest_indResult(statistic=-0.18877452544527282, pvalue=0.85033358544687)"
      ]
     },
     "execution_count": 13,
     "metadata": {},
     "output_type": "execute_result"
    }
   ],
   "source": [
    "df_male = df.loc[df[\"gender\"] == \"M\", :]\n",
    "df_female = df.loc[df[\"gender\"] == \"F\", :]\n",
    "stats.ttest_ind(df_male.loc[:,\"Math\"], df_female.loc[:,\"Math\"])"
   ]
  },
  {
   "cell_type": "markdown",
   "metadata": {},
   "source": [
    "### Q4. 1학년과 3학년의 영어 점수의 차이를 확인하기 위해 독립 2표본 t검정을 실시하고 그 결과를 확인하시오."
   ]
  },
  {
   "cell_type": "code",
   "execution_count": 6,
   "metadata": {},
   "outputs": [
    {
     "data": {
      "text/plain": [
       "Ttest_indResult(statistic=-0.3449906010270166, pvalue=0.730283678006105)"
      ]
     },
     "execution_count": 6,
     "metadata": {},
     "output_type": "execute_result"
    }
   ],
   "source": [
    "df_1_grade = df.loc[df[\"grade\"] == 1, :]\n",
    "df_3_grade = df.loc[df[\"grade\"] == 3, :]\n",
    "stats.ttest_ind(df_1_grade.loc[:,\"English\"], df_3_grade.loc[:,\"English\"])"
   ]
  },
  {
   "cell_type": "markdown",
   "metadata": {},
   "source": [
    "### Q5. 2학년과 3학년 중 50점 이상인 학생들만 따로 뽑아서 과학 점수의 차이를 확인해보려 한다. 독립 2표본 t검정을 실시하고 그 결과를 확인하시오."
   ]
  },
  {
   "cell_type": "code",
   "execution_count": 15,
   "metadata": {},
   "outputs": [
    {
     "data": {
      "text/plain": [
       "Ttest_indResult(statistic=0.760046357802349, pvalue=0.44789001898983516)"
      ]
     },
     "execution_count": 15,
     "metadata": {},
     "output_type": "execute_result"
    }
   ],
   "source": [
    "df_2_grade_up = df.loc[(df[\"grade\"] == 2) & (df[\"Science\"] >= 50), :]\n",
    "df_3_grade_up = df.loc[(df[\"grade\"] == 3) & (df[\"Science\"] >= 50), :]\n",
    "stats.ttest_ind(df_2_grade_up.loc[:,\"Science\"], df_3_grade_up.loc[:,\"Science\"])"
   ]
  }
 ],
 "metadata": {
  "kernelspec": {
   "display_name": "venvPy3",
   "language": "python",
   "name": "venvpy3"
  },
  "language_info": {
   "codemirror_mode": {
    "name": "ipython",
    "version": 3
   },
   "file_extension": ".py",
   "mimetype": "text/x-python",
   "name": "python",
   "nbconvert_exporter": "python",
   "pygments_lexer": "ipython3",
   "version": "3.6.8"
  }
 },
 "nbformat": 4,
 "nbformat_minor": 2
}
