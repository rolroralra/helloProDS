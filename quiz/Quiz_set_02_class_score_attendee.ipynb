{
 "cells": [
  {
   "cell_type": "markdown",
   "metadata": {},
   "source": [
    "# 다음 퀴즈를 수행하시오."
   ]
  },
  {
   "cell_type": "markdown",
   "metadata": {},
   "source": [
    "### Q1. pandas 모듈을 pd로, numpy 모듈을 np로 불러오시오."
   ]
  },
  {
   "cell_type": "code",
   "execution_count": 1,
   "metadata": {},
   "outputs": [],
   "source": [
    "import pandas as pd\n",
    "import numpy as np"
   ]
  },
  {
   "cell_type": "markdown",
   "metadata": {},
   "source": [
    "### Q2. \"class_scores.csv\"를 pandas 모듈을 활용하여 불러오고 객체 종류를 확인하시오\n",
    "(단, df 객체에 저장하시오)\n"
   ]
  },
  {
   "cell_type": "code",
   "execution_count": 2,
   "metadata": {},
   "outputs": [
    {
     "data": {
      "text/plain": [
       "pandas.core.frame.DataFrame"
      ]
     },
     "execution_count": 2,
     "metadata": {},
     "output_type": "execute_result"
    }
   ],
   "source": [
    "df = pd.read_csv(\"class_scores.csv\")\n",
    "type(df)"
   ]
  },
  {
   "cell_type": "markdown",
   "metadata": {},
   "source": [
    "### Q3. df의 첫 3개 row를 출력하시오"
   ]
  },
  {
   "cell_type": "code",
   "execution_count": 3,
   "metadata": {},
   "outputs": [
    {
     "data": {
      "text/html": [
       "<div>\n",
       "<style scoped>\n",
       "    .dataframe tbody tr th:only-of-type {\n",
       "        vertical-align: middle;\n",
       "    }\n",
       "\n",
       "    .dataframe tbody tr th {\n",
       "        vertical-align: top;\n",
       "    }\n",
       "\n",
       "    .dataframe thead th {\n",
       "        text-align: right;\n",
       "    }\n",
       "</style>\n",
       "<table border=\"1\" class=\"dataframe\">\n",
       "  <thead>\n",
       "    <tr style=\"text-align: right;\">\n",
       "      <th></th>\n",
       "      <th>Stu_ID</th>\n",
       "      <th>grade</th>\n",
       "      <th>class</th>\n",
       "      <th>gender</th>\n",
       "      <th>Math</th>\n",
       "      <th>English</th>\n",
       "      <th>Science</th>\n",
       "      <th>Marketing</th>\n",
       "      <th>Writing</th>\n",
       "    </tr>\n",
       "  </thead>\n",
       "  <tbody>\n",
       "    <tr>\n",
       "      <th>0</th>\n",
       "      <td>10101</td>\n",
       "      <td>1</td>\n",
       "      <td>A</td>\n",
       "      <td>M</td>\n",
       "      <td>55</td>\n",
       "      <td>84</td>\n",
       "      <td>50</td>\n",
       "      <td>40</td>\n",
       "      <td>59</td>\n",
       "    </tr>\n",
       "    <tr>\n",
       "      <th>1</th>\n",
       "      <td>10102</td>\n",
       "      <td>1</td>\n",
       "      <td>A</td>\n",
       "      <td>M</td>\n",
       "      <td>29</td>\n",
       "      <td>94</td>\n",
       "      <td>41</td>\n",
       "      <td>87</td>\n",
       "      <td>57</td>\n",
       "    </tr>\n",
       "    <tr>\n",
       "      <th>2</th>\n",
       "      <td>10103</td>\n",
       "      <td>1</td>\n",
       "      <td>A</td>\n",
       "      <td>F</td>\n",
       "      <td>28</td>\n",
       "      <td>80</td>\n",
       "      <td>68</td>\n",
       "      <td>41</td>\n",
       "      <td>100</td>\n",
       "    </tr>\n",
       "  </tbody>\n",
       "</table>\n",
       "</div>"
      ],
      "text/plain": [
       "   Stu_ID  grade class gender  Math  English  Science  Marketing  Writing\n",
       "0   10101      1     A      M    55       84       50         40       59\n",
       "1   10102      1     A      M    29       94       41         87       57\n",
       "2   10103      1     A      F    28       80       68         41      100"
      ]
     },
     "execution_count": 3,
     "metadata": {},
     "output_type": "execute_result"
    }
   ],
   "source": [
    "df.head(3)"
   ]
  },
  {
   "cell_type": "markdown",
   "metadata": {},
   "source": [
    "### Q4. df의 마지막 2개 row를 출력하시오"
   ]
  },
  {
   "cell_type": "code",
   "execution_count": 4,
   "metadata": {},
   "outputs": [
    {
     "data": {
      "text/html": [
       "<div>\n",
       "<style scoped>\n",
       "    .dataframe tbody tr th:only-of-type {\n",
       "        vertical-align: middle;\n",
       "    }\n",
       "\n",
       "    .dataframe tbody tr th {\n",
       "        vertical-align: top;\n",
       "    }\n",
       "\n",
       "    .dataframe thead th {\n",
       "        text-align: right;\n",
       "    }\n",
       "</style>\n",
       "<table border=\"1\" class=\"dataframe\">\n",
       "  <thead>\n",
       "    <tr style=\"text-align: right;\">\n",
       "      <th></th>\n",
       "      <th>Stu_ID</th>\n",
       "      <th>grade</th>\n",
       "      <th>class</th>\n",
       "      <th>gender</th>\n",
       "      <th>Math</th>\n",
       "      <th>English</th>\n",
       "      <th>Science</th>\n",
       "      <th>Marketing</th>\n",
       "      <th>Writing</th>\n",
       "    </tr>\n",
       "  </thead>\n",
       "  <tbody>\n",
       "    <tr>\n",
       "      <th>598</th>\n",
       "      <td>30539</td>\n",
       "      <td>3</td>\n",
       "      <td>E</td>\n",
       "      <td>M</td>\n",
       "      <td>51</td>\n",
       "      <td>67</td>\n",
       "      <td>39</td>\n",
       "      <td>91</td>\n",
       "      <td>55</td>\n",
       "    </tr>\n",
       "    <tr>\n",
       "      <th>599</th>\n",
       "      <td>30540</td>\n",
       "      <td>3</td>\n",
       "      <td>E</td>\n",
       "      <td>M</td>\n",
       "      <td>76</td>\n",
       "      <td>29</td>\n",
       "      <td>80</td>\n",
       "      <td>91</td>\n",
       "      <td>66</td>\n",
       "    </tr>\n",
       "  </tbody>\n",
       "</table>\n",
       "</div>"
      ],
      "text/plain": [
       "     Stu_ID  grade class gender  Math  English  Science  Marketing  Writing\n",
       "598   30539      3     E      M    51       67       39         91       55\n",
       "599   30540      3     E      M    76       29       80         91       66"
      ]
     },
     "execution_count": 4,
     "metadata": {},
     "output_type": "execute_result"
    }
   ],
   "source": [
    "df.tail(2)"
   ]
  },
  {
   "cell_type": "markdown",
   "metadata": {},
   "source": [
    "### Q5. df의 차원을 확인하시오"
   ]
  },
  {
   "cell_type": "code",
   "execution_count": 5,
   "metadata": {},
   "outputs": [
    {
     "data": {
      "text/plain": [
       "2"
      ]
     },
     "execution_count": 5,
     "metadata": {},
     "output_type": "execute_result"
    }
   ],
   "source": [
    "df.ndim"
   ]
  },
  {
   "cell_type": "markdown",
   "metadata": {},
   "source": [
    "### Q6. df의 row 개수를 확인하시오"
   ]
  },
  {
   "cell_type": "code",
   "execution_count": 6,
   "metadata": {},
   "outputs": [
    {
     "data": {
      "text/plain": [
       "600"
      ]
     },
     "execution_count": 6,
     "metadata": {},
     "output_type": "execute_result"
    }
   ],
   "source": [
    "df.shape[0]"
   ]
  },
  {
   "cell_type": "markdown",
   "metadata": {},
   "source": [
    "### Q7. df의 column 개수를 확인하시오"
   ]
  },
  {
   "cell_type": "code",
   "execution_count": 7,
   "metadata": {},
   "outputs": [
    {
     "data": {
      "text/plain": [
       "9"
      ]
     },
     "execution_count": 7,
     "metadata": {},
     "output_type": "execute_result"
    }
   ],
   "source": [
    "df.shape[1]"
   ]
  },
  {
   "cell_type": "markdown",
   "metadata": {},
   "source": [
    "### Q8. df의 column 이름을 확인하시오"
   ]
  },
  {
   "cell_type": "code",
   "execution_count": 8,
   "metadata": {},
   "outputs": [
    {
     "data": {
      "text/plain": [
       "Index(['Stu_ID', 'grade', 'class', 'gender', 'Math', 'English', 'Science',\n",
       "       'Marketing', 'Writing'],\n",
       "      dtype='object')"
      ]
     },
     "execution_count": 8,
     "metadata": {},
     "output_type": "execute_result"
    }
   ],
   "source": [
    "df.columns"
   ]
  },
  {
   "cell_type": "markdown",
   "metadata": {},
   "source": [
    "### Q9. 2학년의 학번, 학년, 성적 전체를 추출하여 df_sub 객체에 저장하시오."
   ]
  },
  {
   "cell_type": "code",
   "execution_count": 9,
   "metadata": {},
   "outputs": [
    {
     "data": {
      "text/html": [
       "<div>\n",
       "<style scoped>\n",
       "    .dataframe tbody tr th:only-of-type {\n",
       "        vertical-align: middle;\n",
       "    }\n",
       "\n",
       "    .dataframe tbody tr th {\n",
       "        vertical-align: top;\n",
       "    }\n",
       "\n",
       "    .dataframe thead th {\n",
       "        text-align: right;\n",
       "    }\n",
       "</style>\n",
       "<table border=\"1\" class=\"dataframe\">\n",
       "  <thead>\n",
       "    <tr style=\"text-align: right;\">\n",
       "      <th></th>\n",
       "      <th>Stu_ID</th>\n",
       "      <th>grade</th>\n",
       "      <th>class</th>\n",
       "      <th>gender</th>\n",
       "      <th>Math</th>\n",
       "      <th>English</th>\n",
       "      <th>Science</th>\n",
       "      <th>Marketing</th>\n",
       "      <th>Writing</th>\n",
       "    </tr>\n",
       "  </thead>\n",
       "  <tbody>\n",
       "    <tr>\n",
       "      <th>200</th>\n",
       "      <td>20101</td>\n",
       "      <td>2</td>\n",
       "      <td>A</td>\n",
       "      <td>M</td>\n",
       "      <td>57</td>\n",
       "      <td>68</td>\n",
       "      <td>98</td>\n",
       "      <td>88</td>\n",
       "      <td>40</td>\n",
       "    </tr>\n",
       "    <tr>\n",
       "      <th>201</th>\n",
       "      <td>20102</td>\n",
       "      <td>2</td>\n",
       "      <td>A</td>\n",
       "      <td>F</td>\n",
       "      <td>94</td>\n",
       "      <td>33</td>\n",
       "      <td>32</td>\n",
       "      <td>44</td>\n",
       "      <td>90</td>\n",
       "    </tr>\n",
       "    <tr>\n",
       "      <th>202</th>\n",
       "      <td>20103</td>\n",
       "      <td>2</td>\n",
       "      <td>A</td>\n",
       "      <td>M</td>\n",
       "      <td>75</td>\n",
       "      <td>73</td>\n",
       "      <td>34</td>\n",
       "      <td>37</td>\n",
       "      <td>85</td>\n",
       "    </tr>\n",
       "    <tr>\n",
       "      <th>203</th>\n",
       "      <td>20104</td>\n",
       "      <td>2</td>\n",
       "      <td>A</td>\n",
       "      <td>M</td>\n",
       "      <td>73</td>\n",
       "      <td>85</td>\n",
       "      <td>35</td>\n",
       "      <td>39</td>\n",
       "      <td>65</td>\n",
       "    </tr>\n",
       "    <tr>\n",
       "      <th>204</th>\n",
       "      <td>20105</td>\n",
       "      <td>2</td>\n",
       "      <td>A</td>\n",
       "      <td>F</td>\n",
       "      <td>64</td>\n",
       "      <td>26</td>\n",
       "      <td>86</td>\n",
       "      <td>64</td>\n",
       "      <td>72</td>\n",
       "    </tr>\n",
       "    <tr>\n",
       "      <th>...</th>\n",
       "      <td>...</td>\n",
       "      <td>...</td>\n",
       "      <td>...</td>\n",
       "      <td>...</td>\n",
       "      <td>...</td>\n",
       "      <td>...</td>\n",
       "      <td>...</td>\n",
       "      <td>...</td>\n",
       "      <td>...</td>\n",
       "    </tr>\n",
       "    <tr>\n",
       "      <th>395</th>\n",
       "      <td>20536</td>\n",
       "      <td>2</td>\n",
       "      <td>E</td>\n",
       "      <td>F</td>\n",
       "      <td>29</td>\n",
       "      <td>33</td>\n",
       "      <td>95</td>\n",
       "      <td>40</td>\n",
       "      <td>51</td>\n",
       "    </tr>\n",
       "    <tr>\n",
       "      <th>396</th>\n",
       "      <td>20537</td>\n",
       "      <td>2</td>\n",
       "      <td>E</td>\n",
       "      <td>M</td>\n",
       "      <td>95</td>\n",
       "      <td>100</td>\n",
       "      <td>96</td>\n",
       "      <td>95</td>\n",
       "      <td>60</td>\n",
       "    </tr>\n",
       "    <tr>\n",
       "      <th>397</th>\n",
       "      <td>20538</td>\n",
       "      <td>2</td>\n",
       "      <td>E</td>\n",
       "      <td>M</td>\n",
       "      <td>79</td>\n",
       "      <td>55</td>\n",
       "      <td>32</td>\n",
       "      <td>78</td>\n",
       "      <td>31</td>\n",
       "    </tr>\n",
       "    <tr>\n",
       "      <th>398</th>\n",
       "      <td>20539</td>\n",
       "      <td>2</td>\n",
       "      <td>E</td>\n",
       "      <td>M</td>\n",
       "      <td>74</td>\n",
       "      <td>60</td>\n",
       "      <td>99</td>\n",
       "      <td>68</td>\n",
       "      <td>80</td>\n",
       "    </tr>\n",
       "    <tr>\n",
       "      <th>399</th>\n",
       "      <td>20540</td>\n",
       "      <td>2</td>\n",
       "      <td>E</td>\n",
       "      <td>F</td>\n",
       "      <td>58</td>\n",
       "      <td>88</td>\n",
       "      <td>35</td>\n",
       "      <td>92</td>\n",
       "      <td>41</td>\n",
       "    </tr>\n",
       "  </tbody>\n",
       "</table>\n",
       "<p>200 rows × 9 columns</p>\n",
       "</div>"
      ],
      "text/plain": [
       "     Stu_ID  grade class gender  Math  English  Science  Marketing  Writing\n",
       "200   20101      2     A      M    57       68       98         88       40\n",
       "201   20102      2     A      F    94       33       32         44       90\n",
       "202   20103      2     A      M    75       73       34         37       85\n",
       "203   20104      2     A      M    73       85       35         39       65\n",
       "204   20105      2     A      F    64       26       86         64       72\n",
       "..      ...    ...   ...    ...   ...      ...      ...        ...      ...\n",
       "395   20536      2     E      F    29       33       95         40       51\n",
       "396   20537      2     E      M    95      100       96         95       60\n",
       "397   20538      2     E      M    79       55       32         78       31\n",
       "398   20539      2     E      M    74       60       99         68       80\n",
       "399   20540      2     E      F    58       88       35         92       41\n",
       "\n",
       "[200 rows x 9 columns]"
      ]
     },
     "execution_count": 9,
     "metadata": {},
     "output_type": "execute_result"
    }
   ],
   "source": [
    "df_sub = df.loc[df['grade'] == 2, :]\n",
    "df_sub"
   ]
  },
  {
   "cell_type": "markdown",
   "metadata": {},
   "source": [
    "### Q10. df_sub를 기준으로 학생 개개인의 성적 평균을 계산하고 학번과 같이 \"score_avg.csv\"로 저장하시오."
   ]
  },
  {
   "cell_type": "code",
   "execution_count": 10,
   "metadata": {},
   "outputs": [
    {
     "data": {
      "text/html": [
       "<div>\n",
       "<style scoped>\n",
       "    .dataframe tbody tr th:only-of-type {\n",
       "        vertical-align: middle;\n",
       "    }\n",
       "\n",
       "    .dataframe tbody tr th {\n",
       "        vertical-align: top;\n",
       "    }\n",
       "\n",
       "    .dataframe thead th {\n",
       "        text-align: right;\n",
       "    }\n",
       "</style>\n",
       "<table border=\"1\" class=\"dataframe\">\n",
       "  <thead>\n",
       "    <tr style=\"text-align: right;\">\n",
       "      <th></th>\n",
       "      <th>Stu_ID</th>\n",
       "      <th>grade</th>\n",
       "      <th>class</th>\n",
       "      <th>gender</th>\n",
       "      <th>Math</th>\n",
       "      <th>English</th>\n",
       "      <th>Science</th>\n",
       "      <th>Marketing</th>\n",
       "      <th>Writing</th>\n",
       "      <th>score_avg</th>\n",
       "    </tr>\n",
       "  </thead>\n",
       "  <tbody>\n",
       "    <tr>\n",
       "      <th>200</th>\n",
       "      <td>20101</td>\n",
       "      <td>2</td>\n",
       "      <td>A</td>\n",
       "      <td>M</td>\n",
       "      <td>57</td>\n",
       "      <td>68</td>\n",
       "      <td>98</td>\n",
       "      <td>88</td>\n",
       "      <td>40</td>\n",
       "      <td>70.2</td>\n",
       "    </tr>\n",
       "    <tr>\n",
       "      <th>201</th>\n",
       "      <td>20102</td>\n",
       "      <td>2</td>\n",
       "      <td>A</td>\n",
       "      <td>F</td>\n",
       "      <td>94</td>\n",
       "      <td>33</td>\n",
       "      <td>32</td>\n",
       "      <td>44</td>\n",
       "      <td>90</td>\n",
       "      <td>58.6</td>\n",
       "    </tr>\n",
       "    <tr>\n",
       "      <th>202</th>\n",
       "      <td>20103</td>\n",
       "      <td>2</td>\n",
       "      <td>A</td>\n",
       "      <td>M</td>\n",
       "      <td>75</td>\n",
       "      <td>73</td>\n",
       "      <td>34</td>\n",
       "      <td>37</td>\n",
       "      <td>85</td>\n",
       "      <td>60.8</td>\n",
       "    </tr>\n",
       "    <tr>\n",
       "      <th>203</th>\n",
       "      <td>20104</td>\n",
       "      <td>2</td>\n",
       "      <td>A</td>\n",
       "      <td>M</td>\n",
       "      <td>73</td>\n",
       "      <td>85</td>\n",
       "      <td>35</td>\n",
       "      <td>39</td>\n",
       "      <td>65</td>\n",
       "      <td>59.4</td>\n",
       "    </tr>\n",
       "    <tr>\n",
       "      <th>204</th>\n",
       "      <td>20105</td>\n",
       "      <td>2</td>\n",
       "      <td>A</td>\n",
       "      <td>F</td>\n",
       "      <td>64</td>\n",
       "      <td>26</td>\n",
       "      <td>86</td>\n",
       "      <td>64</td>\n",
       "      <td>72</td>\n",
       "      <td>62.4</td>\n",
       "    </tr>\n",
       "    <tr>\n",
       "      <th>...</th>\n",
       "      <td>...</td>\n",
       "      <td>...</td>\n",
       "      <td>...</td>\n",
       "      <td>...</td>\n",
       "      <td>...</td>\n",
       "      <td>...</td>\n",
       "      <td>...</td>\n",
       "      <td>...</td>\n",
       "      <td>...</td>\n",
       "      <td>...</td>\n",
       "    </tr>\n",
       "    <tr>\n",
       "      <th>395</th>\n",
       "      <td>20536</td>\n",
       "      <td>2</td>\n",
       "      <td>E</td>\n",
       "      <td>F</td>\n",
       "      <td>29</td>\n",
       "      <td>33</td>\n",
       "      <td>95</td>\n",
       "      <td>40</td>\n",
       "      <td>51</td>\n",
       "      <td>49.6</td>\n",
       "    </tr>\n",
       "    <tr>\n",
       "      <th>396</th>\n",
       "      <td>20537</td>\n",
       "      <td>2</td>\n",
       "      <td>E</td>\n",
       "      <td>M</td>\n",
       "      <td>95</td>\n",
       "      <td>100</td>\n",
       "      <td>96</td>\n",
       "      <td>95</td>\n",
       "      <td>60</td>\n",
       "      <td>89.2</td>\n",
       "    </tr>\n",
       "    <tr>\n",
       "      <th>397</th>\n",
       "      <td>20538</td>\n",
       "      <td>2</td>\n",
       "      <td>E</td>\n",
       "      <td>M</td>\n",
       "      <td>79</td>\n",
       "      <td>55</td>\n",
       "      <td>32</td>\n",
       "      <td>78</td>\n",
       "      <td>31</td>\n",
       "      <td>55.0</td>\n",
       "    </tr>\n",
       "    <tr>\n",
       "      <th>398</th>\n",
       "      <td>20539</td>\n",
       "      <td>2</td>\n",
       "      <td>E</td>\n",
       "      <td>M</td>\n",
       "      <td>74</td>\n",
       "      <td>60</td>\n",
       "      <td>99</td>\n",
       "      <td>68</td>\n",
       "      <td>80</td>\n",
       "      <td>76.2</td>\n",
       "    </tr>\n",
       "    <tr>\n",
       "      <th>399</th>\n",
       "      <td>20540</td>\n",
       "      <td>2</td>\n",
       "      <td>E</td>\n",
       "      <td>F</td>\n",
       "      <td>58</td>\n",
       "      <td>88</td>\n",
       "      <td>35</td>\n",
       "      <td>92</td>\n",
       "      <td>41</td>\n",
       "      <td>62.8</td>\n",
       "    </tr>\n",
       "  </tbody>\n",
       "</table>\n",
       "<p>200 rows × 10 columns</p>\n",
       "</div>"
      ],
      "text/plain": [
       "     Stu_ID  grade class gender  Math  English  Science  Marketing  Writing  \\\n",
       "200   20101      2     A      M    57       68       98         88       40   \n",
       "201   20102      2     A      F    94       33       32         44       90   \n",
       "202   20103      2     A      M    75       73       34         37       85   \n",
       "203   20104      2     A      M    73       85       35         39       65   \n",
       "204   20105      2     A      F    64       26       86         64       72   \n",
       "..      ...    ...   ...    ...   ...      ...      ...        ...      ...   \n",
       "395   20536      2     E      F    29       33       95         40       51   \n",
       "396   20537      2     E      M    95      100       96         95       60   \n",
       "397   20538      2     E      M    79       55       32         78       31   \n",
       "398   20539      2     E      M    74       60       99         68       80   \n",
       "399   20540      2     E      F    58       88       35         92       41   \n",
       "\n",
       "     score_avg  \n",
       "200       70.2  \n",
       "201       58.6  \n",
       "202       60.8  \n",
       "203       59.4  \n",
       "204       62.4  \n",
       "..         ...  \n",
       "395       49.6  \n",
       "396       89.2  \n",
       "397       55.0  \n",
       "398       76.2  \n",
       "399       62.8  \n",
       "\n",
       "[200 rows x 10 columns]"
      ]
     },
     "execution_count": 10,
     "metadata": {},
     "output_type": "execute_result"
    }
   ],
   "source": [
    "df_mean = df_sub.loc[:,df_sub.columns[4:]].mean(axis=1).to_frame().rename(columns={0: \"score_avg\"})\n",
    "df_new = pd.concat([df_sub, df_mean], axis=1)\n",
    "df_new.to_csv(\"score_avg.csv\")\n",
    "df_new"
   ]
  },
  {
   "cell_type": "markdown",
   "metadata": {},
   "source": [
    "### Q11. df_sub를 기준으로 과목별 성적 최고점, 최저점, 표준편차를 계산하고 과목명과 함께 score_stat에 저장하시오."
   ]
  },
  {
   "cell_type": "code",
   "execution_count": 11,
   "metadata": {},
   "outputs": [
    {
     "data": {
      "text/html": [
       "<div>\n",
       "<style scoped>\n",
       "    .dataframe tbody tr th:only-of-type {\n",
       "        vertical-align: middle;\n",
       "    }\n",
       "\n",
       "    .dataframe tbody tr th {\n",
       "        vertical-align: top;\n",
       "    }\n",
       "\n",
       "    .dataframe thead th {\n",
       "        text-align: right;\n",
       "    }\n",
       "</style>\n",
       "<table border=\"1\" class=\"dataframe\">\n",
       "  <thead>\n",
       "    <tr style=\"text-align: right;\">\n",
       "      <th></th>\n",
       "      <th>max_score</th>\n",
       "      <th>min_score</th>\n",
       "      <th>std</th>\n",
       "    </tr>\n",
       "  </thead>\n",
       "  <tbody>\n",
       "    <tr>\n",
       "      <th>Math</th>\n",
       "      <td>100</td>\n",
       "      <td>25</td>\n",
       "      <td>21.966154</td>\n",
       "    </tr>\n",
       "    <tr>\n",
       "      <th>English</th>\n",
       "      <td>100</td>\n",
       "      <td>25</td>\n",
       "      <td>20.638307</td>\n",
       "    </tr>\n",
       "    <tr>\n",
       "      <th>Science</th>\n",
       "      <td>100</td>\n",
       "      <td>25</td>\n",
       "      <td>23.344244</td>\n",
       "    </tr>\n",
       "    <tr>\n",
       "      <th>Marketing</th>\n",
       "      <td>100</td>\n",
       "      <td>25</td>\n",
       "      <td>22.021939</td>\n",
       "    </tr>\n",
       "    <tr>\n",
       "      <th>Writing</th>\n",
       "      <td>100</td>\n",
       "      <td>25</td>\n",
       "      <td>21.772637</td>\n",
       "    </tr>\n",
       "  </tbody>\n",
       "</table>\n",
       "</div>"
      ],
      "text/plain": [
       "           max_score  min_score        std\n",
       "Math             100         25  21.966154\n",
       "English          100         25  20.638307\n",
       "Science          100         25  23.344244\n",
       "Marketing        100         25  22.021939\n",
       "Writing          100         25  21.772637"
      ]
     },
     "execution_count": 11,
     "metadata": {},
     "output_type": "execute_result"
    }
   ],
   "source": [
    "df_subject = df_sub.loc[:,df_sub.columns[4:]]\n",
    "df_subject_mean = df_subject.mean().to_frame(name=\"mean_score\")\n",
    "df_subject_max = df_subject.max().to_frame(name=\"max_score\")\n",
    "df_subject_min = df_subject.min().to_frame(name=\"min_score\")\n",
    "df_subject_std = df_subject.std().to_frame(name=\"std\")\n",
    "# score_stat  = pd.DataFrame({\"subject\": df_subject.columns, \"max_score\": df_subject_max, \"min_score\": df_subject_min, \"std\": df_subject_std})\n",
    "score_stat = pd.concat([df_subject_max, df_subject_min, df_subject_std], axis=1)\n",
    "score_stat"
   ]
  },
  {
   "cell_type": "markdown",
   "metadata": {},
   "source": [
    "### Q12. score_stat의 index를 0 ~ 4로 만드시오."
   ]
  },
  {
   "cell_type": "code",
   "execution_count": 12,
   "metadata": {},
   "outputs": [
    {
     "data": {
      "text/html": [
       "<div>\n",
       "<style scoped>\n",
       "    .dataframe tbody tr th:only-of-type {\n",
       "        vertical-align: middle;\n",
       "    }\n",
       "\n",
       "    .dataframe tbody tr th {\n",
       "        vertical-align: top;\n",
       "    }\n",
       "\n",
       "    .dataframe thead th {\n",
       "        text-align: right;\n",
       "    }\n",
       "</style>\n",
       "<table border=\"1\" class=\"dataframe\">\n",
       "  <thead>\n",
       "    <tr style=\"text-align: right;\">\n",
       "      <th></th>\n",
       "      <th>max_score</th>\n",
       "      <th>min_score</th>\n",
       "      <th>std</th>\n",
       "    </tr>\n",
       "  </thead>\n",
       "  <tbody>\n",
       "    <tr>\n",
       "      <th>0</th>\n",
       "      <td>100</td>\n",
       "      <td>25</td>\n",
       "      <td>21.966154</td>\n",
       "    </tr>\n",
       "    <tr>\n",
       "      <th>1</th>\n",
       "      <td>100</td>\n",
       "      <td>25</td>\n",
       "      <td>20.638307</td>\n",
       "    </tr>\n",
       "    <tr>\n",
       "      <th>2</th>\n",
       "      <td>100</td>\n",
       "      <td>25</td>\n",
       "      <td>23.344244</td>\n",
       "    </tr>\n",
       "    <tr>\n",
       "      <th>3</th>\n",
       "      <td>100</td>\n",
       "      <td>25</td>\n",
       "      <td>22.021939</td>\n",
       "    </tr>\n",
       "    <tr>\n",
       "      <th>4</th>\n",
       "      <td>100</td>\n",
       "      <td>25</td>\n",
       "      <td>21.772637</td>\n",
       "    </tr>\n",
       "  </tbody>\n",
       "</table>\n",
       "</div>"
      ],
      "text/plain": [
       "   max_score  min_score        std\n",
       "0        100         25  21.966154\n",
       "1        100         25  20.638307\n",
       "2        100         25  23.344244\n",
       "3        100         25  22.021939\n",
       "4        100         25  21.772637"
      ]
     },
     "execution_count": 12,
     "metadata": {},
     "output_type": "execute_result"
    }
   ],
   "source": [
    "score_stat = score_stat.reset_index(drop=True)\n",
    "score_stat"
   ]
  },
  {
   "cell_type": "markdown",
   "metadata": {},
   "source": [
    "### Q13. score_stat 객체를 \"score_stat.csv\"로 저장하시오."
   ]
  },
  {
   "cell_type": "code",
   "execution_count": 13,
   "metadata": {},
   "outputs": [],
   "source": [
    "score_stat.to_csv(\"score_stat.csv\", index = False)"
   ]
  }
 ],
 "metadata": {
  "kernelspec": {
   "display_name": "venvPy3",
   "language": "python",
   "name": "venvpy3"
  },
  "language_info": {
   "codemirror_mode": {
    "name": "ipython",
    "version": 3
   },
   "file_extension": ".py",
   "mimetype": "text/x-python",
   "name": "python",
   "nbconvert_exporter": "python",
   "pygments_lexer": "ipython3",
   "version": "3.6.8"
  }
 },
 "nbformat": 4,
 "nbformat_minor": 2
}
