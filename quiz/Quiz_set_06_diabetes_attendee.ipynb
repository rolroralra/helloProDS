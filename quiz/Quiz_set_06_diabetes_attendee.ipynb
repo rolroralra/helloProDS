{
 "cells": [
  {
   "cell_type": "markdown",
   "metadata": {},
   "source": [
    "## 다음 문제를 풀이하시오."
   ]
  },
  {
   "cell_type": "markdown",
   "metadata": {},
   "source": [
    "diabetes.csv 파일을 대상으로 다음 문제를 풀이하시오."
   ]
  },
  {
   "cell_type": "markdown",
   "metadata": {},
   "source": [
    "### Q1. 당뇨 여부인 Outcome과 임신 횟수인 Pregnancies을 제외한 수치형 변수는  결측치가 0으로 기록이 되어 있다. 모든 변수의 결측치 개수를 더한 개수를 기술하시오.\n",
    "(정답 예시: 123)"
   ]
  },
  {
   "cell_type": "code",
   "execution_count": 48,
   "metadata": {},
   "outputs": [
    {
     "name": "stdout",
     "output_type": "stream",
     "text": [
      "652\n",
      "652\n",
      "652\n",
      "652\n",
      "652\n",
      "652\n",
      "652\n",
      "652\n",
      "652\n"
     ]
    }
   ],
   "source": [
    "import pandas as pd\n",
    "import numpy as np\n",
    "\n",
    "df = pd.read_csv(\"../data/diabetes.csv\")\n",
    "\n",
    "# Way 1\n",
    "df_sub = df.drop([\"Pregnancies\", \"Outcome\"], axis=1)\n",
    "print((~df_sub[df_sub==0].isnull()).sum().sum())\n",
    "\n",
    "# Way 2\n",
    "df_q1 = df.drop([\"Pregnancies\", \"Outcome\"], axis=1).copy()\n",
    "df_q1\n",
    "print((~df_q1[df_q1==0].isna()).sum().sum())\n",
    "print((df_q1[df_q1==0].notna()).sum().sum())\n",
    "print((df_q1[df_q1.isin([0])].notna()).sum().sum())\n",
    "\n",
    "\n",
    "#  Way 3\n",
    "print(df_q1[df_q1==0].count().sum())\n",
    "print(df_q1[df_q1.isin([0])].count().sum())\n",
    "\n",
    "# Way4\n",
    "arr = []\n",
    "answer = 0\n",
    "for col in df_q1.columns:\n",
    "    arr.append((df_q1[col] == 0).sum())\n",
    "    answer += (df_q1[col] == 0).sum()\n",
    "print(answer)\n",
    "\n",
    "\n",
    "# Way5 Lambda\n",
    "print(df_q1.apply(lambda x: x.isin([0]).sum()).sum())\n",
    "print(df_q1.apply(lambda x: x[x == 0].notna().sum()).sum())\n"
   ]
  },
  {
   "cell_type": "markdown",
   "metadata": {},
   "source": [
    "### Q2. Outcome 변수를 제외한 변수간 상관분석을 실시하고 상관계수가 가장 높은 조합의 변수명과 상관계수를 기술하시오.\n",
    " - 변수명은 알파벳 순서대로 기술한다.\n",
    " - 상관계수는 반올림하여 소수점 셋째자리까지 기술한다.\n",
    " \n",
    "(정답 예시: aaa, bbb, 0.123)"
   ]
  },
  {
   "cell_type": "code",
   "execution_count": 2,
   "metadata": {},
   "outputs": [
    {
     "data": {
      "text/plain": [
       "Pregnancies    0.544341\n",
       "Age            0.544341\n",
       "dtype: float64"
      ]
     },
     "execution_count": 2,
     "metadata": {},
     "output_type": "execute_result"
    }
   ],
   "source": [
    "corr = df.drop(\"Outcome\", axis=1).corr()\n",
    "\n",
    "## idxmax Mistake!!!!!\n",
    "# corr_max = pd.concat([corr[corr != 1].max(), corr[corr != 1].idxmax()], axis=1)\n",
    "# # corr_max[0].idxmax()\n",
    "# corr_max.max()\n",
    "\n",
    "# arr = [corr_max[0].idxmax(), corr_max.max()[1]]\n",
    "# arr.sort()\n",
    "\n",
    "# print(f\"{arr[0]}, {arr[1]}, {round(corr_max.max()[0], 3)}\")\n",
    "\n",
    "corr_max_2 = corr.apply(lambda x: x[x != 1].max())\n",
    "corr_max_2[corr_max_2 == corr_max_2.max()]"
   ]
  },
  {
   "cell_type": "markdown",
   "metadata": {},
   "source": [
    "### Q3. 임신 경험 여부와 BMI간의 관계를 보고자 한다. 이때 적절한 검정방법을 사용하고 해당 검정의 검정통계량의 절대값을 반올림하여 소수점 셋째 자리 까지 표기하시오.\n",
    "(정답 예시: 1.234)"
   ]
  },
  {
   "cell_type": "code",
   "execution_count": 3,
   "metadata": {},
   "outputs": [
    {
     "name": "stdout",
     "output_type": "stream",
     "text": [
      "-3.341\n",
      "0.001\n",
      "Ttest_indResult(statistic=3.3413391396804033, pvalue=0.0008741720747529957)\n"
     ]
    },
    {
     "data": {
      "text/html": [
       "<table class=\"simpletable\">\n",
       "<caption>OLS Regression Results</caption>\n",
       "<tr>\n",
       "  <th>Dep. Variable:</th>           <td>BMI</td>       <th>  R-squared:         </th> <td>   0.014</td>\n",
       "</tr>\n",
       "<tr>\n",
       "  <th>Model:</th>                   <td>OLS</td>       <th>  Adj. R-squared:    </th> <td>   0.013</td>\n",
       "</tr>\n",
       "<tr>\n",
       "  <th>Method:</th>             <td>Least Squares</td>  <th>  F-statistic:       </th> <td>   11.16</td>\n",
       "</tr>\n",
       "<tr>\n",
       "  <th>Date:</th>             <td>Fri, 27 Nov 2020</td> <th>  Prob (F-statistic):</th> <td>0.000874</td>\n",
       "</tr>\n",
       "<tr>\n",
       "  <th>Time:</th>                 <td>13:09:27</td>     <th>  Log-Likelihood:    </th> <td> -2669.5</td>\n",
       "</tr>\n",
       "<tr>\n",
       "  <th>No. Observations:</th>      <td>   768</td>      <th>  AIC:               </th> <td>   5343.</td>\n",
       "</tr>\n",
       "<tr>\n",
       "  <th>Df Residuals:</th>          <td>   766</td>      <th>  BIC:               </th> <td>   5352.</td>\n",
       "</tr>\n",
       "<tr>\n",
       "  <th>Df Model:</th>              <td>     1</td>      <th>                     </th>     <td> </td>   \n",
       "</tr>\n",
       "<tr>\n",
       "  <th>Covariance Type:</th>      <td>nonrobust</td>    <th>                     </th>     <td> </td>   \n",
       "</tr>\n",
       "</table>\n",
       "<table class=\"simpletable\">\n",
       "<tr>\n",
       "       <td></td>          <th>coef</th>     <th>std err</th>      <th>t</th>      <th>P>|t|</th>  <th>[0.025</th>    <th>0.975]</th>  \n",
       "</tr>\n",
       "<tr>\n",
       "  <th>Intercept</th>   <td>   34.2901</td> <td>    0.743</td> <td>   46.125</td> <td> 0.000</td> <td>   32.831</td> <td>   35.749</td>\n",
       "</tr>\n",
       "<tr>\n",
       "  <th>is_pregnant</th> <td>   -2.6857</td> <td>    0.804</td> <td>   -3.341</td> <td> 0.001</td> <td>   -4.264</td> <td>   -1.108</td>\n",
       "</tr>\n",
       "</table>\n",
       "<table class=\"simpletable\">\n",
       "<tr>\n",
       "  <th>Omnibus:</th>       <td>101.731</td> <th>  Durbin-Watson:     </th> <td>   1.980</td>\n",
       "</tr>\n",
       "<tr>\n",
       "  <th>Prob(Omnibus):</th> <td> 0.000</td>  <th>  Jarque-Bera (JB):  </th> <td> 413.512</td>\n",
       "</tr>\n",
       "<tr>\n",
       "  <th>Skew:</th>          <td>-0.550</td>  <th>  Prob(JB):          </th> <td>1.61e-90</td>\n",
       "</tr>\n",
       "<tr>\n",
       "  <th>Kurtosis:</th>      <td> 6.422</td>  <th>  Cond. No.          </th> <td>    5.08</td>\n",
       "</tr>\n",
       "</table><br/><br/>Notes:<br/>[1] Standard Errors assume that the covariance matrix of the errors is correctly specified."
      ],
      "text/plain": [
       "<class 'statsmodels.iolib.summary.Summary'>\n",
       "\"\"\"\n",
       "                            OLS Regression Results                            \n",
       "==============================================================================\n",
       "Dep. Variable:                    BMI   R-squared:                       0.014\n",
       "Model:                            OLS   Adj. R-squared:                  0.013\n",
       "Method:                 Least Squares   F-statistic:                     11.16\n",
       "Date:                Fri, 27 Nov 2020   Prob (F-statistic):           0.000874\n",
       "Time:                        13:09:27   Log-Likelihood:                -2669.5\n",
       "No. Observations:                 768   AIC:                             5343.\n",
       "Df Residuals:                     766   BIC:                             5352.\n",
       "Df Model:                           1                                         \n",
       "Covariance Type:            nonrobust                                         \n",
       "===============================================================================\n",
       "                  coef    std err          t      P>|t|      [0.025      0.975]\n",
       "-------------------------------------------------------------------------------\n",
       "Intercept      34.2901      0.743     46.125      0.000      32.831      35.749\n",
       "is_pregnant    -2.6857      0.804     -3.341      0.001      -4.264      -1.108\n",
       "==============================================================================\n",
       "Omnibus:                      101.731   Durbin-Watson:                   1.980\n",
       "Prob(Omnibus):                  0.000   Jarque-Bera (JB):              413.512\n",
       "Skew:                          -0.550   Prob(JB):                     1.61e-90\n",
       "Kurtosis:                       6.422   Cond. No.                         5.08\n",
       "==============================================================================\n",
       "\n",
       "Notes:\n",
       "[1] Standard Errors assume that the covariance matrix of the errors is correctly specified.\n",
       "\"\"\""
      ]
     },
     "execution_count": 3,
     "metadata": {},
     "output_type": "execute_result"
    }
   ],
   "source": [
    "import statsmodels.formula.api as smf\n",
    "from scipy.stats import ttest_ind\n",
    "\n",
    "df_q3 = df.copy()\n",
    "\n",
    "df_q3[\"is_pregnant\"] = (df_q3[\"Pregnancies\"] >= 1) + 0\n",
    "df_q3.head(2)\n",
    "lm = smf.ols(\"BMI ~ is_pregnant\", df_q3).fit()\n",
    "print(round(lm.tvalues[1], 3))\n",
    "print(round(lm.pvalues[1],3))\n",
    "\n",
    "print(ttest_ind(df_q3.loc[df_q3[\"is_pregnant\"] == 0, \"BMI\"], df_q3.loc[df_q3[\"is_pregnant\"] == 1, \"BMI\"]))\n",
    "lm.summary()"
   ]
  },
  {
   "cell_type": "markdown",
   "metadata": {},
   "source": [
    "### Q4. 임신 횟수, 혈당, 혈압, 피부 두께로 BMI를 설명할 수 있는지 확인해보려 한다. BMI를 종속변수로 한 다중선형 회귀분석을 실시하고 유의미한 변수의 개수와 결정계수를 기술하시오.\n",
    " - 단, 이 분석은 70세 미만의 데이터만 사용한다.\n",
    " - 결측치는 모두 제거하고 분석을 실시한다.\n",
    " - 결정계수는 소수점 둘 째 자리까지 기술한다.\n",
    "\n",
    "(정답 예시: 1, 0.12)"
   ]
  },
  {
   "cell_type": "code",
   "execution_count": 57,
   "metadata": {},
   "outputs": [
    {
     "name": "stdout",
     "output_type": "stream",
     "text": [
      "\n",
      "\n",
      "\n"
     ]
    },
    {
     "name": "stderr",
     "output_type": "stream",
     "text": [
      "/home/rolroralra/venv/lib/python3.6/site-packages/pandas/core/indexing.py:1715: SettingWithCopyWarning: \n",
      "A value is trying to be set on a copy of a slice from a DataFrame.\n",
      "Try using .loc[row_indexer,col_indexer] = value instead\n",
      "\n",
      "See the caveats in the documentation: https://pandas.pydata.org/pandas-docs/stable/user_guide/indexing.html#returning-a-view-versus-a-copy\n",
      "  isetter(loc, v)\n"
     ]
    },
    {
     "data": {
      "text/html": [
       "<table class=\"simpletable\">\n",
       "<caption>OLS Regression Results</caption>\n",
       "<tr>\n",
       "  <th>Dep. Variable:</th>           <td>BMI</td>       <th>  R-squared:         </th> <td>   0.471</td>\n",
       "</tr>\n",
       "<tr>\n",
       "  <th>Model:</th>                   <td>OLS</td>       <th>  Adj. R-squared:    </th> <td>   0.467</td>\n",
       "</tr>\n",
       "<tr>\n",
       "  <th>Method:</th>             <td>Least Squares</td>  <th>  F-statistic:       </th> <td>   114.8</td>\n",
       "</tr>\n",
       "<tr>\n",
       "  <th>Date:</th>             <td>Fri, 27 Nov 2020</td> <th>  Prob (F-statistic):</th> <td>3.41e-53</td>\n",
       "</tr>\n",
       "<tr>\n",
       "  <th>Time:</th>                 <td>13:34:20</td>     <th>  Log-Likelihood:    </th> <td> -1192.2</td>\n",
       "</tr>\n",
       "<tr>\n",
       "  <th>No. Observations:</th>      <td>   391</td>      <th>  AIC:               </th> <td>   2392.</td>\n",
       "</tr>\n",
       "<tr>\n",
       "  <th>Df Residuals:</th>          <td>   387</td>      <th>  BIC:               </th> <td>   2408.</td>\n",
       "</tr>\n",
       "<tr>\n",
       "  <th>Df Model:</th>              <td>     3</td>      <th>                     </th>     <td> </td>   \n",
       "</tr>\n",
       "<tr>\n",
       "  <th>Covariance Type:</th>      <td>nonrobust</td>    <th>                     </th>     <td> </td>   \n",
       "</tr>\n",
       "</table>\n",
       "<table class=\"simpletable\">\n",
       "<tr>\n",
       "        <td></td>           <th>coef</th>     <th>std err</th>      <th>t</th>      <th>P>|t|</th>  <th>[0.025</th>    <th>0.975]</th>  \n",
       "</tr>\n",
       "<tr>\n",
       "  <th>Intercept</th>     <td>   13.5358</td> <td>    1.686</td> <td>    8.027</td> <td> 0.000</td> <td>   10.220</td> <td>   16.851</td>\n",
       "</tr>\n",
       "<tr>\n",
       "  <th>Glucose</th>       <td>    0.0128</td> <td>    0.009</td> <td>    1.468</td> <td> 0.143</td> <td>   -0.004</td> <td>    0.030</td>\n",
       "</tr>\n",
       "<tr>\n",
       "  <th>BloodPressure</th> <td>    0.0840</td> <td>    0.022</td> <td>    3.876</td> <td> 0.000</td> <td>    0.041</td> <td>    0.127</td>\n",
       "</tr>\n",
       "<tr>\n",
       "  <th>SkinThickness</th> <td>    0.4141</td> <td>    0.026</td> <td>   16.116</td> <td> 0.000</td> <td>    0.364</td> <td>    0.465</td>\n",
       "</tr>\n",
       "</table>\n",
       "<table class=\"simpletable\">\n",
       "<tr>\n",
       "  <th>Omnibus:</th>       <td>39.302</td> <th>  Durbin-Watson:     </th> <td>   1.918</td>\n",
       "</tr>\n",
       "<tr>\n",
       "  <th>Prob(Omnibus):</th> <td> 0.000</td> <th>  Jarque-Bera (JB):  </th> <td>  64.276</td>\n",
       "</tr>\n",
       "<tr>\n",
       "  <th>Skew:</th>          <td> 0.641</td> <th>  Prob(JB):          </th> <td>1.10e-14</td>\n",
       "</tr>\n",
       "<tr>\n",
       "  <th>Kurtosis:</th>      <td> 4.517</td> <th>  Cond. No.          </th> <td>    957.</td>\n",
       "</tr>\n",
       "</table><br/><br/>Notes:<br/>[1] Standard Errors assume that the covariance matrix of the errors is correctly specified."
      ],
      "text/plain": [
       "<class 'statsmodels.iolib.summary.Summary'>\n",
       "\"\"\"\n",
       "                            OLS Regression Results                            \n",
       "==============================================================================\n",
       "Dep. Variable:                    BMI   R-squared:                       0.471\n",
       "Model:                            OLS   Adj. R-squared:                  0.467\n",
       "Method:                 Least Squares   F-statistic:                     114.8\n",
       "Date:                Fri, 27 Nov 2020   Prob (F-statistic):           3.41e-53\n",
       "Time:                        13:34:20   Log-Likelihood:                -1192.2\n",
       "No. Observations:                 391   AIC:                             2392.\n",
       "Df Residuals:                     387   BIC:                             2408.\n",
       "Df Model:                           3                                         \n",
       "Covariance Type:            nonrobust                                         \n",
       "=================================================================================\n",
       "                    coef    std err          t      P>|t|      [0.025      0.975]\n",
       "---------------------------------------------------------------------------------\n",
       "Intercept        13.5358      1.686      8.027      0.000      10.220      16.851\n",
       "Glucose           0.0128      0.009      1.468      0.143      -0.004       0.030\n",
       "BloodPressure     0.0840      0.022      3.876      0.000       0.041       0.127\n",
       "SkinThickness     0.4141      0.026     16.116      0.000       0.364       0.465\n",
       "==============================================================================\n",
       "Omnibus:                       39.302   Durbin-Watson:                   1.918\n",
       "Prob(Omnibus):                  0.000   Jarque-Bera (JB):               64.276\n",
       "Skew:                           0.641   Prob(JB):                     1.10e-14\n",
       "Kurtosis:                       4.517   Cond. No.                         957.\n",
       "==============================================================================\n",
       "\n",
       "Notes:\n",
       "[1] Standard Errors assume that the covariance matrix of the errors is correctly specified.\n",
       "\"\"\""
      ]
     },
     "execution_count": 57,
     "metadata": {},
     "output_type": "execute_result"
    }
   ],
   "source": [
    "df_sub = df[df[\"Age\"] < 70]\n",
    "df_sub.iloc[:, 1:-1] = df_sub.iloc[:, 1:-1].replace(0, np.nan)\n",
    "df_sub = df_sub.dropna()\n",
    "# df_sub = df_sub[df_sub.iloc[:,0:-1] != 0].dropna()\n",
    "\n",
    "lm = smf.ols(\"BMI ~ Glucose + BloodPressure + SkinThickness\", df_sub).fit()\n",
    "print(\", \".join(lm.pvalues[lm.pvalues >= 0.2].index))\n",
    "print(\", \".join(lm.pvalues[lm.pvalues >= 0.2].round(3).astype(\"str\").values))\n",
    "\n",
    "idx_1 = lm.pvalues[lm.pvalues >= 0.2].index\n",
    "arr_1 = lm.pvalues[lm.pvalues >= 0.2].round(3)\n",
    "\n",
    "params_1 = lm.params[idx_1]\n",
    "print(\", \".join(params_1.astype(\"str\")))\n",
    "lm.summary()"
   ]
  },
  {
   "cell_type": "code",
   "execution_count": 67,
   "metadata": {},
   "outputs": [
    {
     "name": "stdout",
     "output_type": "stream",
     "text": [
      "0.470941268953485\n"
     ]
    }
   ],
   "source": [
    "df_q4 = df.copy()\n",
    "df_q4 = df_q4.loc[df_q4[\"Age\"] < 70, ]\n",
    "df_q4 = df_q4.iloc[:,1:-1].replace(0, np.nan).dropna()\n",
    "df_q4\n",
    "\n",
    "lm = smf.ols(\"BMI ~ Glucose + BloodPressure + SkinThickness\", df_q4).fit()\n",
    "lm.summary()\n",
    "lm_q4 = lm.rsquared\n",
    "print(lm_q4)\n",
    "\n",
    "\n",
    "# print(\", \".join(lm.pvalues[lm.pvalues >= 0.2].index))\n",
    "# print(\", \".join(lm.pvalues[lm.pvalues >= 0.2].round(3).astype(\"str\").values))\n",
    "\n",
    "# idx_1 = lm.pvalues[lm.pvalues >= 0.2].index\n",
    "# arr_1 = lm.pvalues[lm.pvalues >= 0.2].round(3)\n",
    "\n",
    "# params_1 = lm.params[idx_1]\n",
    "# print(\", \".join(params_1.astype(\"str\")))"
   ]
  },
  {
   "cell_type": "markdown",
   "metadata": {},
   "source": [
    "### Q5. 결측치 처리에 따른 효과를 알아보고자 한다. 4번에서 사용된 독립변수 중 결측치를 모두 해당 변수의 평균치로 치환하고 다중선형 회귀분석을 실시하여 얻은 결정계수와 4번에서 계산한 결정계수와의 차이의 절대값을 기술하시오.\n",
    " - 단, 이 분석은 70세 미만의 데이터만 사용한다.\n",
    " - 종속변수와 독립변수는 4번과 동일하게 한다.\n",
    " - 결정계수는 소수점 둘 째 자리까지 기술한다.\n",
    "\n",
    "(정답 예시: 0.12, 0.34)"
   ]
  },
  {
   "cell_type": "code",
   "execution_count": 69,
   "metadata": {},
   "outputs": [
    {
     "name": "stdout",
     "output_type": "stream",
     "text": [
      "   Pregnancies  Glucose  BloodPressure  SkinThickness     Insulin   BMI  \\\n",
      "0            6    148.0           72.0      35.000000  155.791349  33.6   \n",
      "1            1     85.0           66.0      29.000000  155.791349  26.6   \n",
      "2            8    183.0           64.0      29.166976  155.791349  23.3   \n",
      "3            1     89.0           66.0      23.000000   94.000000  28.1   \n",
      "4            0    137.0           40.0      35.000000  168.000000  43.1   \n",
      "\n",
      "   DiabetesPedigreeFunction  Age  Outcome  \n",
      "0                     0.627   50        1  \n",
      "1                     0.351   31        0  \n",
      "2                     0.672   32        1  \n",
      "3                     0.167   21        0  \n",
      "4                     2.288   33        1  \n",
      "\n",
      "0.1321670018384805\n"
     ]
    }
   ],
   "source": [
    "df_q5 = df.copy()\n",
    "df_q5 = df_q5.loc[df_q5[\"Age\"] < 70,]\n",
    "\n",
    "df_q5.iloc[:, 1:-1] = df_q5.iloc[:, 1:-1].replace(0, np.nan)\n",
    "df_q5 = df_q5.fillna(df_q5.mean())\n",
    "print(df_q5.head())\n",
    "print()\n",
    "\n",
    "lm = smf.ols(\"BMI ~ Glucose + BloodPressure + SkinThickness\", df_q5).fit()\n",
    "lm.summary()\n",
    "lm_q5 = lm.rsquared\n",
    "print(abs(lm_q5 - lm_q4))"
   ]
  },
  {
   "cell_type": "code",
   "execution_count": 60,
   "metadata": {},
   "outputs": [
    {
     "name": "stdout",
     "output_type": "stream",
     "text": [
      "   Pregnancies  Glucose  BloodPressure  SkinThickness     Insulin   BMI  \\\n",
      "0            6    148.0           72.0      35.000000  155.791349  33.6   \n",
      "1            1     85.0           66.0      29.000000  155.791349  26.6   \n",
      "2            8    183.0           64.0      29.166976  155.791349  23.3   \n",
      "3            1     89.0           66.0      23.000000   94.000000  28.1   \n",
      "4            0    137.0           40.0      35.000000  168.000000  43.1   \n",
      "\n",
      "   DiabetesPedigreeFunction  Age  Outcome  \n",
      "0                     0.627   50        1  \n",
      "1                     0.351   31        0  \n",
      "2                     0.672   32        1  \n",
      "3                     0.167   21        0  \n",
      "4                     2.288   33        1  \n",
      "\n",
      "   Pregnancies  Glucose  BloodPressure  SkinThickness     Insulin   BMI  \\\n",
      "0     6.000000    148.0           72.0      35.000000   80.033987  33.6   \n",
      "1     1.000000     85.0           66.0      29.000000   80.033987  26.6   \n",
      "2     8.000000    183.0           64.0      20.550327   80.033987  23.3   \n",
      "3     1.000000     89.0           66.0      23.000000   94.000000  28.1   \n",
      "4     3.840523    137.0           40.0      35.000000  168.000000  43.1   \n",
      "\n",
      "   DiabetesPedigreeFunction  Age  Outcome  \n",
      "0                     0.627   50  1.00000  \n",
      "1                     0.351   31  0.34902  \n",
      "2                     0.672   32  1.00000  \n",
      "3                     0.167   21  0.34902  \n",
      "4                     2.288   33  1.00000  \n",
      "\n",
      "\n"
     ]
    }
   ],
   "source": [
    "df_sub = df[df[\"Age\"] < 70]\n",
    "# print(df_sub.describe())\n",
    "df_sub = df_sub[df_sub != 0].fillna(df_sub.mean())\n",
    "print(df_sub.head())\n",
    "\n",
    "lm = smf.ols(\"BMI ~ Glucose + BloodPressure + SkinThickness\", df_sub).fit()\n",
    "lm.summary()\n",
    "\n",
    "params_2 = lm.params[idx_1]\n",
    "\n",
    "\n",
    "print(\", \".join(params_2.round(3).astype(\"str\")))\n",
    "print(\", \".join((params_1 - params_2).abs().round(3).astype(\"str\")))\n",
    "# print(\", \".join(lm.pvalues[lm.pvalues >= 0.2].index))\n",
    "# print(\", \".join(lm.pvalues[lm.pvalues >= 0.2].round(3).astype(\"str\").values))"
   ]
  },
  {
   "cell_type": "markdown",
   "metadata": {},
   "source": [
    "### Q6. 분류모델의 성능을 비교하고자 한다. Outcome 변수를 독립변수로 하고 나머지 변수를 독립변수로 하고, 독립변수의 경우 결측치로 간주되는 것은 모두 제거한다. 이항 로지스틱 회귀분석과, 의사결정나무로 학습을 하고 그 정확도를 각각 기술하시오.\n",
    " - 학습은 최초 100개 데이터를 제외한 나머지로 실시한다.\n",
    " - 평가는 최초 100개 데이터로 실시한다.\n",
    " - 이항 로지스틱 회귀분석의 경우 유의미 하지 않은 변수는 제거한다.\n",
    " - 이항 로지스틱 회귀분석의 문턱값은 0.5로 설정한다.\n",
    " - 정확도는 반올림하여 소수점 셋째 자리까지 표기한다.\n",
    " \n",
    "(정답 예시: 0.123, 0.456)"
   ]
  },
  {
   "cell_type": "code",
   "execution_count": 87,
   "metadata": {
    "scrolled": true
   },
   "outputs": [
    {
     "name": "stdout",
     "output_type": "stream",
     "text": [
      "Optimization terminated successfully.\n",
      "         Current function value: 0.538995\n",
      "         Iterations 6\n"
     ]
    },
    {
     "data": {
      "text/html": [
       "<table class=\"simpletable\">\n",
       "<caption>Logit Regression Results</caption>\n",
       "<tr>\n",
       "  <th>Dep. Variable:</th>        <td>Outcome</td>     <th>  No. Observations:  </th>  <td>   292</td>  \n",
       "</tr>\n",
       "<tr>\n",
       "  <th>Model:</th>                 <td>Logit</td>      <th>  Df Residuals:      </th>  <td>   284</td>  \n",
       "</tr>\n",
       "<tr>\n",
       "  <th>Method:</th>                 <td>MLE</td>       <th>  Df Model:          </th>  <td>     7</td>  \n",
       "</tr>\n",
       "<tr>\n",
       "  <th>Date:</th>            <td>Fri, 27 Nov 2020</td> <th>  Pseudo R-squ.:     </th>  <td>0.1234</td>  \n",
       "</tr>\n",
       "<tr>\n",
       "  <th>Time:</th>                <td>13:47:11</td>     <th>  Log-Likelihood:    </th> <td> -157.39</td> \n",
       "</tr>\n",
       "<tr>\n",
       "  <th>converged:</th>             <td>True</td>       <th>  LL-Null:           </th> <td> -179.54</td> \n",
       "</tr>\n",
       "<tr>\n",
       "  <th>Covariance Type:</th>     <td>nonrobust</td>    <th>  LLR p-value:       </th> <td>1.859e-07</td>\n",
       "</tr>\n",
       "</table>\n",
       "<table class=\"simpletable\">\n",
       "<tr>\n",
       "              <td></td>                <th>coef</th>     <th>std err</th>      <th>z</th>      <th>P>|z|</th>  <th>[0.025</th>    <th>0.975]</th>  \n",
       "</tr>\n",
       "<tr>\n",
       "  <th>Pregnancies</th>              <td>    0.1348</td> <td>    0.059</td> <td>    2.280</td> <td> 0.023</td> <td>    0.019</td> <td>    0.251</td>\n",
       "</tr>\n",
       "<tr>\n",
       "  <th>Glucose</th>                  <td>    0.0220</td> <td>    0.006</td> <td>    3.897</td> <td> 0.000</td> <td>    0.011</td> <td>    0.033</td>\n",
       "</tr>\n",
       "<tr>\n",
       "  <th>BloodPressure</th>            <td>   -0.0505</td> <td>    0.012</td> <td>   -4.192</td> <td> 0.000</td> <td>   -0.074</td> <td>   -0.027</td>\n",
       "</tr>\n",
       "<tr>\n",
       "  <th>SkinThickness</th>            <td>    0.0401</td> <td>    0.018</td> <td>    2.241</td> <td> 0.025</td> <td>    0.005</td> <td>    0.075</td>\n",
       "</tr>\n",
       "<tr>\n",
       "  <th>Insulin</th>                  <td>    0.0018</td> <td>    0.001</td> <td>    1.323</td> <td> 0.186</td> <td>   -0.001</td> <td>    0.005</td>\n",
       "</tr>\n",
       "<tr>\n",
       "  <th>BMI</th>                      <td>   -0.0594</td> <td>    0.028</td> <td>   -2.137</td> <td> 0.033</td> <td>   -0.114</td> <td>   -0.005</td>\n",
       "</tr>\n",
       "<tr>\n",
       "  <th>DiabetesPedigreeFunction</th> <td>    0.4404</td> <td>    0.409</td> <td>    1.077</td> <td> 0.282</td> <td>   -0.361</td> <td>    1.242</td>\n",
       "</tr>\n",
       "<tr>\n",
       "  <th>Age</th>                      <td>   -0.0037</td> <td>    0.019</td> <td>   -0.194</td> <td> 0.846</td> <td>   -0.042</td> <td>    0.034</td>\n",
       "</tr>\n",
       "</table>"
      ],
      "text/plain": [
       "<class 'statsmodels.iolib.summary.Summary'>\n",
       "\"\"\"\n",
       "                           Logit Regression Results                           \n",
       "==============================================================================\n",
       "Dep. Variable:                Outcome   No. Observations:                  292\n",
       "Model:                          Logit   Df Residuals:                      284\n",
       "Method:                           MLE   Df Model:                            7\n",
       "Date:                Fri, 27 Nov 2020   Pseudo R-squ.:                  0.1234\n",
       "Time:                        13:47:11   Log-Likelihood:                -157.39\n",
       "converged:                       True   LL-Null:                       -179.54\n",
       "Covariance Type:            nonrobust   LLR p-value:                 1.859e-07\n",
       "============================================================================================\n",
       "                               coef    std err          z      P>|z|      [0.025      0.975]\n",
       "--------------------------------------------------------------------------------------------\n",
       "Pregnancies                  0.1348      0.059      2.280      0.023       0.019       0.251\n",
       "Glucose                      0.0220      0.006      3.897      0.000       0.011       0.033\n",
       "BloodPressure               -0.0505      0.012     -4.192      0.000      -0.074      -0.027\n",
       "SkinThickness                0.0401      0.018      2.241      0.025       0.005       0.075\n",
       "Insulin                      0.0018      0.001      1.323      0.186      -0.001       0.005\n",
       "BMI                         -0.0594      0.028     -2.137      0.033      -0.114      -0.005\n",
       "DiabetesPedigreeFunction     0.4404      0.409      1.077      0.282      -0.361       1.242\n",
       "Age                         -0.0037      0.019     -0.194      0.846      -0.042       0.034\n",
       "============================================================================================\n",
       "\"\"\""
      ]
     },
     "execution_count": 87,
     "metadata": {},
     "output_type": "execute_result"
    }
   ],
   "source": [
    "df_q6 = df.copy()\n",
    "\n",
    "df_q6.iloc[:, 1:-1] = df_q6.iloc[:, 1:-1].replace(0, np.nan)\n",
    "df_q6 = df_q6.dropna()\n",
    "\n",
    "df_q6_train = df_q6.iloc[100:, ]\n",
    "df_q6_test = df_q6.iloc[:100, ]\n",
    "# df_q6_train.shape[0] + df_q6_test.shape[0] == df_q6.shape[0]\n",
    "\n",
    "from statsmodels.api import Logit\n",
    "from sklearn.tree import DecisionTreeClassifier\n",
    "\n",
    "model_logit = Logit(df_q6_train[\"Outcome\"], df_q6_train.drop(\"Outcome\", axis=1)).fit()\n",
    "\n",
    "model_logit.summary()"
   ]
  },
  {
   "cell_type": "code",
   "execution_count": 106,
   "metadata": {},
   "outputs": [
    {
     "name": "stdout",
     "output_type": "stream",
     "text": [
      "0.66\n"
     ]
    }
   ],
   "source": [
    "pred_logit_prob = model_logit.predict(df_q6_test.drop(\"Outcome\", axis = 1))\n",
    "pred_logit = (pred_logit_prob > 0.5) + 0\n",
    "print(round(accuracy_score(df_q6_test[\"Outcome\"], pred_logit), 3))"
   ]
  },
  {
   "cell_type": "code",
   "execution_count": 91,
   "metadata": {},
   "outputs": [
    {
     "name": "stdout",
     "output_type": "stream",
     "text": [
      "0.68\n"
     ]
    }
   ],
   "source": [
    "model_tree = DecisionTreeClassifier().fit(X=df_q6_train.drop(\"Outcome\", axis=1), y=df_q6_train[\"Outcome\"])\n",
    "pred_tree = model_tree.predict(df_q6_test.drop(\"Outcome\", axis=1))\n",
    "print(round(accuracy_score(df_q6_test[\"Outcome\"], pred_tree), 3))"
   ]
  },
  {
   "cell_type": "code",
   "execution_count": 107,
   "metadata": {},
   "outputs": [],
   "source": [
    "from sklearn.linear_model import LogisticRegression\n",
    "# model_Logistic_sl = LogisticRegression()"
   ]
  },
  {
   "cell_type": "code",
   "execution_count": 122,
   "metadata": {},
   "outputs": [
    {
     "name": "stdout",
     "output_type": "stream",
     "text": [
      "392\n",
      "Optimization terminated successfully.\n",
      "         Current function value: 0.467077\n",
      "         Iterations 6\n",
      "0.79\n"
     ]
    }
   ],
   "source": [
    "df_q6 = df.copy()\n",
    "\n",
    "df_q6.iloc[:, 1:-1] = df_q6.iloc[:, 1:-1].replace(0, np.nan)\n",
    "df_q6 = df_q6.dropna()\n",
    "\n",
    "from sklearn.model_selection import train_test_split\n",
    "x_train,x_test, y_train, y_test = train_test_split(df_q6.drop(\"Outcome\",axis=1), df_q6[\"Outcome\"], test_size=100)\n",
    "df_train, df_test = train_test_split(df, test_size=100)\n",
    "\n",
    "import statsmodels.api as sm\n",
    "from statsmodels.formula.api import logit\n",
    "new_model = logit(f\"Outcome ~ {' + '.join(df_q6.drop(['Outcome'], axis=1).columns)}\", df_train).fit()\n",
    "pred_new_logic = (new_model.predict(df_test.drop(\"Outcome\", axis=1)) > 0.5) + 0\n",
    "print(round(accuracy_score(df_test[\"Outcome\"], pred_new_logic), 3))\n",
    "\n",
    "# model = sm.Logit(df_q6[\"Outcome\"].astype(\"int\"), df_q6.drop(\"Outcome\", axis=1))\n",
    "# result = model.fit(f\"Outcome ~ {' + '.join(df_q6.drop(['Outcome'], axis=1).columns)}\")\n"
   ]
  }
 ],
 "metadata": {
  "kernelspec": {
   "display_name": "venvPy3",
   "language": "python",
   "name": "venvpy3"
  },
  "language_info": {
   "codemirror_mode": {
    "name": "ipython",
    "version": 3
   },
   "file_extension": ".py",
   "mimetype": "text/x-python",
   "name": "python",
   "nbconvert_exporter": "python",
   "pygments_lexer": "ipython3",
   "version": "3.6.8"
  }
 },
 "nbformat": 4,
 "nbformat_minor": 2
}
