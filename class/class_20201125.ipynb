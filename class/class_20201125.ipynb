{
 "cells": [
  {
   "cell_type": "code",
   "execution_count": 1,
   "metadata": {},
   "outputs": [
    {
     "data": {
      "text/html": [
       "<div>\n",
       "<style scoped>\n",
       "    .dataframe tbody tr th:only-of-type {\n",
       "        vertical-align: middle;\n",
       "    }\n",
       "\n",
       "    .dataframe tbody tr th {\n",
       "        vertical-align: top;\n",
       "    }\n",
       "\n",
       "    .dataframe thead th {\n",
       "        text-align: right;\n",
       "    }\n",
       "</style>\n",
       "<table border=\"1\" class=\"dataframe\">\n",
       "  <thead>\n",
       "    <tr style=\"text-align: right;\">\n",
       "      <th></th>\n",
       "      <th>Sepal.Length</th>\n",
       "      <th>Sepal.Width</th>\n",
       "      <th>Petal.Length</th>\n",
       "      <th>Petal.Width</th>\n",
       "      <th>Species</th>\n",
       "    </tr>\n",
       "  </thead>\n",
       "  <tbody>\n",
       "    <tr>\n",
       "      <th>0</th>\n",
       "      <td>5.1</td>\n",
       "      <td>3.5</td>\n",
       "      <td>1.4</td>\n",
       "      <td>0.2</td>\n",
       "      <td>setosa</td>\n",
       "    </tr>\n",
       "    <tr>\n",
       "      <th>1</th>\n",
       "      <td>4.9</td>\n",
       "      <td>3.0</td>\n",
       "      <td>1.4</td>\n",
       "      <td>0.2</td>\n",
       "      <td>setosa</td>\n",
       "    </tr>\n",
       "    <tr>\n",
       "      <th>2</th>\n",
       "      <td>4.7</td>\n",
       "      <td>3.2</td>\n",
       "      <td>1.3</td>\n",
       "      <td>0.2</td>\n",
       "      <td>setosa</td>\n",
       "    </tr>\n",
       "    <tr>\n",
       "      <th>3</th>\n",
       "      <td>4.6</td>\n",
       "      <td>3.1</td>\n",
       "      <td>1.5</td>\n",
       "      <td>0.2</td>\n",
       "      <td>setosa</td>\n",
       "    </tr>\n",
       "    <tr>\n",
       "      <th>4</th>\n",
       "      <td>5.0</td>\n",
       "      <td>3.6</td>\n",
       "      <td>1.4</td>\n",
       "      <td>0.2</td>\n",
       "      <td>setosa</td>\n",
       "    </tr>\n",
       "  </tbody>\n",
       "</table>\n",
       "</div>"
      ],
      "text/plain": [
       "   Sepal.Length  Sepal.Width  Petal.Length  Petal.Width Species\n",
       "0           5.1          3.5           1.4          0.2  setosa\n",
       "1           4.9          3.0           1.4          0.2  setosa\n",
       "2           4.7          3.2           1.3          0.2  setosa\n",
       "3           4.6          3.1           1.5          0.2  setosa\n",
       "4           5.0          3.6           1.4          0.2  setosa"
      ]
     },
     "execution_count": 1,
     "metadata": {},
     "output_type": "execute_result"
    }
   ],
   "source": [
    "import pandas as pd\n",
    "import numpy as np\n",
    "import scipy.stats as stats\n",
    "from scipy.stats.stats import pearsonr\n",
    "from scipy.stats.stats import kendalltau\n",
    "from scipy.stats.stats import spearmanr\n",
    "\n",
    "df = pd.read_excel(\"../data/iris_xlsx.xlsx\")\n",
    "# df = pd.read_csv(\"../data/iris_xlsx.csv\")\n",
    "df.head()"
   ]
  },
  {
   "cell_type": "code",
   "execution_count": 2,
   "metadata": {},
   "outputs": [
    {
     "name": "stdout",
     "output_type": "stream",
     "text": [
      "-0.83812 0.4033\n"
     ]
    }
   ],
   "source": [
    "stat, p = stats.ttest_1samp(df[\"Sepal.Length\"], popmean = 5.9)\n",
    "print(round(stat, 5), round(p, 5))"
   ]
  },
  {
   "cell_type": "code",
   "execution_count": 3,
   "metadata": {},
   "outputs": [
    {
     "data": {
      "text/plain": [
       "array([1, 1, 1, 2, 2, 2, 3, 3, 3])"
      ]
     },
     "execution_count": 3,
     "metadata": {},
     "output_type": "execute_result"
    }
   ],
   "source": [
    "np.repeat([1,2,3],3)"
   ]
  },
  {
   "cell_type": "code",
   "execution_count": 4,
   "metadata": {},
   "outputs": [
    {
     "name": "stdout",
     "output_type": "stream",
     "text": [
      "[36.463  0.   ]\n",
      "[34.815  0.   ]\n"
     ]
    }
   ],
   "source": [
    "print(np.round(stats.ttest_ind(df[\"Sepal.Length\"], df[\"Sepal.Width\"], equal_var=True), 3))\n",
    "\n",
    "print(np.round(stats.ttest_rel(df[\"Sepal.Length\"], df[\"Sepal.Width\"]), 3))"
   ]
  },
  {
   "cell_type": "code",
   "execution_count": 5,
   "metadata": {},
   "outputs": [
    {
     "data": {
      "text/plain": [
       "F_onewayResult(statistic=236.75163298404746, pvalue=7.657188374182084e-71)"
      ]
     },
     "execution_count": 5,
     "metadata": {},
     "output_type": "execute_result"
    }
   ],
   "source": [
    "import pandas as pd\n",
    "from scipy.stats import f_oneway\n",
    "df = pd.read_excel(\"../data/iris_xlsx.xlsx\")\n",
    "f_oneway(df[\"Sepal.Length\"], df[\"Sepal.Width\"], df[\"Petal.Length\"])"
   ]
  },
  {
   "cell_type": "code",
   "execution_count": 6,
   "metadata": {},
   "outputs": [
    {
     "name": "stdout",
     "output_type": "stream",
     "text": [
      "   carat      cut color clarity  depth  table  price     x     y     z\n",
      "0   0.23    Ideal     E     SI2   61.5   55.0    326  3.95  3.98  2.43\n",
      "1   0.21  Premium     E     SI1   59.8   61.0    326  3.89  3.84  2.31\n",
      "2   0.23     Good     E     VS1   56.9   65.0    327  4.05  4.07  2.31\n",
      "3   0.29  Premium     I     VS2   62.4   58.0    334  4.20  4.23  2.63\n",
      "4   0.31     Good     J     SI2   63.3   58.0    335  4.34  4.35  2.75\n",
      "\n",
      "               df        sum_sq       mean_sq           F         PR(>F)\n",
      "C(cut)        4.0  1.104175e+10  2.760436e+09  175.688717  8.428307e-150\n",
      "Residual  53935.0  8.474314e+11  1.571209e+07         NaN            NaN\n"
     ]
    }
   ],
   "source": [
    "from statsmodels.formula.api import ols\n",
    "from statsmodels.stats.anova import anova_lm\n",
    "\n",
    "df = pd.read_csv(\"../data/diamonds.csv\")\n",
    "print(df.head())\n",
    "print()\n",
    "formula = \"price ~ C(cut)\"\n",
    "lm = ols(formula, df).fit()\n",
    "print(anova_lm(lm))"
   ]
  },
  {
   "cell_type": "code",
   "execution_count": null,
   "metadata": {},
   "outputs": [],
   "source": [
    "bike = pd.read_csv(\"../data/bike.csv\")\n",
    "\n",
    "print(bike.head())\n",
    "print()\n",
    "\n",
    "formula1 = \"casual ~ season\"\n",
    "formula2 = \"casual ~ C(season)\"\n",
    "\n",
    "lm1 = ols(formula1, bike).fit()\n",
    "lm2 = ols(formula2, bike).fit()\n",
    "print(anova_lm(lm1))\n",
    "print()\n",
    "print(anova_lm(lm2))"
   ]
  },
  {
   "cell_type": "code",
   "execution_count": null,
   "metadata": {
    "scrolled": true
   },
   "outputs": [],
   "source": [
    "from statsmodels.stats.multicomp import pairwise_tukeyhsd\n",
    "\n",
    "df = pd.read_csv(\"../data/diamonds.csv\")\n",
    "\n",
    "print(df.head())\n",
    "print()\n",
    "\n",
    "posthoc = pairwise_tukeyhsd(df[\"price\"], df[\"cut\"])\n",
    "print(posthoc)"
   ]
  },
  {
   "cell_type": "code",
   "execution_count": null,
   "metadata": {},
   "outputs": [],
   "source": [
    "from scipy.stats import bartlett\n",
    "\n",
    "print(bartlett(df.loc[df[\"cut\"] == \"Good\", \"price\"], \n",
    "              df.loc[df[\"cut\"] == \"Ideal\", \"price\"], \n",
    "              df.loc[df[\"cut\"] == \"Premium\", \"price\"]))"
   ]
  },
  {
   "cell_type": "code",
   "execution_count": null,
   "metadata": {},
   "outputs": [],
   "source": [
    "import pandas as pd\n",
    "from statsmodels.tsa.seasonal import seasonal_decompose\n",
    "# from matplotlib import pyplot\n",
    "# import matplotlib.pyplot as plt\n",
    "\n",
    "df = pd.read_csv(\"../data/AWS_sample.txt\", sep = \"#\")\n",
    "print()\n",
    "\n",
    "df = df.loc[df[\"AWS_ID\"] == 108, :]\n",
    "df['TM'] = pd.to_datetime(df['TM'])\n",
    "df = df.set_index('TM')\n",
    "df"
   ]
  },
  {
   "cell_type": "code",
   "execution_count": null,
   "metadata": {},
   "outputs": [],
   "source": [
    "series = df[\"TA\"]\n",
    "result = seasonal_decompose(series, model='additive')\n",
    "result.plot()"
   ]
  },
  {
   "cell_type": "code",
   "execution_count": null,
   "metadata": {},
   "outputs": [],
   "source": [
    "print('dddd')"
   ]
  }
 ],
 "metadata": {
  "kernelspec": {
   "display_name": "venvPy3",
   "language": "python",
   "name": "venvpy3"
  },
  "language_info": {
   "codemirror_mode": {
    "name": "ipython",
    "version": 3
   },
   "file_extension": ".py",
   "mimetype": "text/x-python",
   "name": "python",
   "nbconvert_exporter": "python",
   "pygments_lexer": "ipython3",
   "version": "3.6.8"
  }
 },
 "nbformat": 4,
 "nbformat_minor": 4
}
