{
 "cells": [
  {
   "cell_type": "code",
   "execution_count": 2,
   "metadata": {},
   "outputs": [
    {
     "data": {
      "text/plain": [
       "array([[1.00000000e+00, 1.35784265e-18, 7.11283512e-26],\n",
       "       [1.00000000e+00, 1.51480769e-17, 2.34820051e-25],\n",
       "       [1.00000000e+00, 1.07304179e-18, 2.34026774e-26],\n",
       "       [1.00000000e+00, 1.46619543e-17, 2.95492722e-25]])"
      ]
     },
     "execution_count": 2,
     "metadata": {},
     "output_type": "execute_result"
    }
   ],
   "source": [
    "import pandas as pd\n",
    "import numpy as np\n",
    "import scipy.stats as stats\n",
    "\n",
    "from sklearn.naive_bayes import GaussianNB\n",
    "\n",
    "df = pd.read_excel(\"../data/iris_xlsx.xlsx\")\n",
    "model_7 = GaussianNB().fit(X = df.iloc[:, :4], y = df[\"Species\"])\n",
    "\n",
    "model_7.classes_\n",
    "## array(['setosa', 'versicolor', 'virginica'], dtype='<U10')\n",
    "\n",
    "model_7.predict_proba(df.iloc[:, :4])[:4, ] # 'setosa', 'versicolor', 'virginica'\n",
    "## array([[1.00000000e+00, 1.35784265e-18, 7.11283512e-26],\n",
    "##        [1.00000000e+00, 1.51480769e-17, 2.34820051e-25],\n",
    "##        [1.00000000e+00, 1.07304179e-18, 2.34026774e-26],\n",
    "##        [1.00000000e+00, 1.46619543e-17, 2.95492722e-25]])"
   ]
  }
 ],
 "metadata": {
  "kernelspec": {
   "display_name": "venvPy3",
   "language": "python",
   "name": "venvpy3"
  },
  "language_info": {
   "codemirror_mode": {
    "name": "ipython",
    "version": 3
   },
   "file_extension": ".py",
   "mimetype": "text/x-python",
   "name": "python",
   "nbconvert_exporter": "python",
   "pygments_lexer": "ipython3",
   "version": "3.6.8"
  }
 },
 "nbformat": 4,
 "nbformat_minor": 4
}
