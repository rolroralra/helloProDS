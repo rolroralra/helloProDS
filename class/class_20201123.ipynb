{
 "cells": [
  {
   "cell_type": "code",
   "execution_count": 1,
   "metadata": {},
   "outputs": [
    {
     "data": {
      "text/plain": [
       "2"
      ]
     },
     "execution_count": 1,
     "metadata": {},
     "output_type": "execute_result"
    }
   ],
   "source": [
    "1 + 1"
   ]
  },
  {
   "cell_type": "code",
   "execution_count": 2,
   "metadata": {},
   "outputs": [
    {
     "data": {
      "text/plain": [
       "4"
      ]
     },
     "execution_count": 2,
     "metadata": {},
     "output_type": "execute_result"
    }
   ],
   "source": [
    "1 + 1\n",
    "2 + 2"
   ]
  },
  {
   "cell_type": "markdown",
   "metadata": {},
   "source": [
    "# Title 1\n",
    "### Title 3\n",
    "<br/>\n",
    "$x = {-b \\pm \\sqrt{b^2-4ac} \\over 2a}$"
   ]
  },
  {
   "cell_type": "code",
   "execution_count": 3,
   "metadata": {},
   "outputs": [
    {
     "data": {
      "text/plain": [
       "2"
      ]
     },
     "execution_count": 3,
     "metadata": {},
     "output_type": "execute_result"
    }
   ],
   "source": [
    "0b10"
   ]
  },
  {
   "cell_type": "code",
   "execution_count": 4,
   "metadata": {},
   "outputs": [
    {
     "name": "stdout",
     "output_type": "stream",
     "text": [
      "1 2 3\n",
      "1, 2, 3\n",
      "Hello, rolroralra. I am 20.\n",
      "Hello, rolroralra. You are 20.\n",
      "Hello, Eric. You are 74.\n",
      "Hello, Eric. You are 74.\n",
      "Hello, rolroralra. You are 20.\n"
     ]
    }
   ],
   "source": [
    "arr=[1,2,3]\n",
    "truple=(1,2,3)\n",
    "print(\"%s %s %s\" % (arr[0], arr[1], arr[2]))\n",
    "print(\"%s, %s, %s\" % truple)\n",
    "\n",
    "name = \"rolroralra\"\n",
    "age = 20\n",
    "print(\"Hello, {}. I am {}.\".format(name, age))\n",
    "print(\"Hello, {1}. You are {0}.\".format(age, name))\n",
    "\n",
    "person = {'name': 'Eric', 'age': 74}\n",
    "print(\"Hello, {name}. You are {age}.\".format(name=person['name'], age=person['age']))\n",
    "print(\"Hello, {name}. You are {age}.\".format(**person))\n",
    "\n",
    "\n",
    "print(f\"Hello, {name}. You are {age}.\")"
   ]
  },
  {
   "cell_type": "code",
   "execution_count": 5,
   "metadata": {},
   "outputs": [
    {
     "name": "stdout",
     "output_type": "stream",
     "text": [
      "abc\n",
      "abc\n",
      "abcd\n",
      "efg\n",
      "\n",
      "abcd\n",
      "efg\n",
      "\n"
     ]
    }
   ],
   "source": [
    "print('abc')\n",
    "print(\"abc\")\n",
    "print('''abcd\n",
    "efg\n",
    "''')\n",
    "\n",
    "print(\"\"\"abcd\n",
    "efg\n",
    "\"\"\")"
   ]
  },
  {
   "cell_type": "code",
   "execution_count": 6,
   "metadata": {
    "scrolled": true
   },
   "outputs": [
    {
     "name": "stdout",
     "output_type": "stream",
     "text": [
      "h\n",
      "!\n",
      "llo!\n",
      "he\n",
      "!olleh\n",
      "!olleh\n",
      "-3\n",
      "[1, 2, 3, 1, 2, 3]\n",
      "True\n",
      "[1, 2, 3, [6, 6]]\n",
      "[1, 2, 3, [6, 6], 7, 7]\n"
     ]
    }
   ],
   "source": [
    "tx=\"hello!\"\n",
    "print(tx[0])\n",
    "print(tx[-1])\n",
    "print(tx[2:])\n",
    "print(tx[:2])\n",
    "print(tx[-1::-1])\n",
    "print(tx[-1::-1])\n",
    "\n",
    "print(~2)\n",
    "\n",
    "arr=[1,2,3]\n",
    "print(arr * 2)\n",
    "print(2 in arr)\n",
    "\n",
    "import numpy as np\n",
    "cc = np.array([1,2,3])\n",
    "dd = np.array([4,5,6])\n",
    "cc + dd\n",
    "arr.append([6,6])\n",
    "print(arr)\n",
    "arr.extend([7,7])\n",
    "print(arr)"
   ]
  },
  {
   "cell_type": "code",
   "execution_count": 7,
   "metadata": {
    "scrolled": true
   },
   "outputs": [
    {
     "name": "stdout",
     "output_type": "stream",
     "text": [
      "7\n",
      "(1, 2, [5, 6, 7])\n",
      "<class 'tuple'>\n",
      "['False', 'None', 'True', 'and', 'as', 'assert', 'async', 'await', 'break', 'class', 'continue', 'def', 'del', 'elif', 'else', 'except', 'finally', 'for', 'from', 'global', 'if', 'import', 'in', 'is', 'lambda', 'nonlocal', 'not', 'or', 'pass', 'raise', 'return', 'try', 'while', 'with', 'yield']\n"
     ]
    }
   ],
   "source": [
    "aa = (1, 2, [5,6,7])\n",
    "print(aa[2][2])\n",
    "print(aa)\n",
    "print(type(aa))\n",
    "\n",
    "import keyword\n",
    "print(keyword.kwlist)"
   ]
  },
  {
   "cell_type": "code",
   "execution_count": 8,
   "metadata": {},
   "outputs": [
    {
     "name": "stdout",
     "output_type": "stream",
     "text": [
      "Retake\n",
      "1\n",
      "1.1\n",
      "(1+2j)\n"
     ]
    }
   ],
   "source": [
    "level = [\"A\", \"B\", \"C\", \"D\", \"F\"]\n",
    "mine = \"C\"\n",
    "if mine in level[:1]:\n",
    "    print(\"Pass\")\n",
    "elif mine == level[2]:\n",
    "    print(\"Retake\")\n",
    "else:\n",
    "    print(\"Fail\")\n",
    "\n",
    "print(int(1.1))\n",
    "print(float(1.1))\n",
    "print(complex(1,2))"
   ]
  },
  {
   "cell_type": "code",
   "execution_count": 9,
   "metadata": {},
   "outputs": [
    {
     "name": "stdout",
     "output_type": "stream",
     "text": [
      "0\n",
      "1\n",
      "2\n",
      "3\n",
      "4\n",
      "5\n",
      "6\n",
      "7\n",
      "8\n",
      "9\n",
      "a\n",
      "b\n",
      "c\n",
      "1 2\n",
      "3 4\n",
      "5 6\n",
      "(1, 2)\n",
      "(3, 4)\n",
      "(5, 6)\n"
     ]
    },
    {
     "data": {
      "text/plain": [
       "[2]"
      ]
     },
     "execution_count": 9,
     "metadata": {},
     "output_type": "execute_result"
    }
   ],
   "source": [
    "for n in range(10):\n",
    "    print(n)\n",
    "    \n",
    "listt = [\"a\", \"b\", \"c\"]\n",
    "for i in listt:\n",
    "    print(i)\n",
    "\n",
    "a = [(1,2), (3,4), (5,6)]\n",
    "for (first, second) in a:\n",
    "    print(first, second)\n",
    "    \n",
    "for v in a:\n",
    "    print(v)\n",
    "    \n",
    "a = [2, 6, 7, 8, 9]\n",
    "[a[l] for l in range(len(a)) if l % 2 == 0 and a[l] % 2 == 0]"
   ]
  },
  {
   "cell_type": "code",
   "execution_count": 10,
   "metadata": {},
   "outputs": [
    {
     "name": "stdout",
     "output_type": "stream",
     "text": [
      "[2, 6, 8]\n",
      "[2, 6, 8]\n",
      "[1, 2, 3, 4, 5, 6, 7]\n",
      "[6, 2, 1, 4, 3, 5, 7]\n",
      "[1, 2, 3, 4, 5, 6, 7]\n",
      "[7, 6, 5, 4, 3, 2, 1]\n"
     ]
    }
   ],
   "source": [
    "a = [2, 6, 7, 8, 9]\n",
    "list_even = list()\n",
    "for num in a:\n",
    "    if num % 2 ==0:\n",
    "#         list_even.append(num)\n",
    "#       list_even += [num]\n",
    "        list_even.extend([num])\n",
    "print(list_even)\n",
    "\n",
    "\n",
    "print([num for num in a if num % 2 == 0])\n",
    "\n",
    "\n",
    "b = [6,2,1,4,3,5,7]\n",
    "print(sorted(b))\n",
    "print(b)\n",
    "b.sort()\n",
    "print(b)\n",
    "b.sort(reverse=True)\n",
    "print(b)\n"
   ]
  },
  {
   "cell_type": "code",
   "execution_count": 11,
   "metadata": {},
   "outputs": [
    {
     "name": "stdout",
     "output_type": "stream",
     "text": [
      "2\n",
      "100\n",
      "30\n"
     ]
    }
   ],
   "source": [
    "def udf_02(aa = 2):\n",
    "    print(aa)\n",
    "    \n",
    "udf_02()\n",
    "udf_02(100)\n",
    "\n",
    "def udf_03(aa, bb):\n",
    "    return aa + bb\n",
    "\n",
    "print(udf_03(10, 20))"
   ]
  },
  {
   "cell_type": "code",
   "execution_count": 12,
   "metadata": {},
   "outputs": [
    {
     "name": "stdout",
     "output_type": "stream",
     "text": [
      "{3}\n",
      "{1, 2, 3, 4, 5}\n",
      "{1, 2}\n",
      "{1, 2, 4, 5}\n"
     ]
    }
   ],
   "source": [
    "set1 = {1,2,3}\n",
    "set2 = {3,4,5}\n",
    "print(set1 & set2)\n",
    "#print(set1.intersection(set2))\n",
    "print(set1 | set2)\n",
    "#print(set1.union(set2))\n",
    "print(set1 - set2)\n",
    "#print(set1.difference(set2))\n",
    "print(set1 ^ set2)\n",
    "#print(set1.symmetric_difference(set2))"
   ]
  },
  {
   "cell_type": "code",
   "execution_count": 13,
   "metadata": {},
   "outputs": [
    {
     "name": "stdout",
     "output_type": "stream",
     "text": [
      "[1 2 3]\n",
      "(3,)\n",
      "(2, 3)\n"
     ]
    }
   ],
   "source": [
    "import numpy as np\n",
    "\n",
    "arr = np.array([1,2,3])\n",
    "print(arr)\n",
    "print(arr.shape)\n",
    "\n",
    "arr2 = np.zeros((2,3))\n",
    "print(arr2.shape)\n",
    "\n"
   ]
  },
  {
   "cell_type": "code",
   "execution_count": 14,
   "metadata": {},
   "outputs": [
    {
     "name": "stdout",
     "output_type": "stream",
     "text": [
      "[[1 2 3]\n",
      " [4 5 6]]\n",
      "[1 2]\n",
      "[[99 98  3]\n",
      " [ 4  5  6]]\n",
      "[99 98]\n",
      "\n",
      "[[1 2 3]\n",
      " [4 5 6]]\n",
      "[1 2]\n",
      "[[99 98  3]\n",
      " [ 4  5  6]]\n",
      "[1 2]\n",
      "\n",
      "[1, 2]\n",
      "[[99, 98, 3], [4, 5, 6]]\n",
      "[1, 2]\n"
     ]
    }
   ],
   "source": [
    "import numpy as np\n",
    "\n",
    "# ndarray shallow copy\n",
    "arr = np.array([[1,2,3], [4,5,6]])\n",
    "print(arr)\n",
    "\n",
    "arr_sub = arr[0, 0:2]\n",
    "print(arr_sub)\n",
    "\n",
    "arr[0,0:2] = [99, 98]\n",
    "print(arr)\n",
    "print(arr_sub)\n",
    "print()\n",
    "\n",
    "# ndarray deep copy\n",
    "arr = np.array([[1,2,3], [4,5,6]])\n",
    "print(arr)\n",
    "\n",
    "arr_sub = arr[0, 0:2].copy()\n",
    "print(arr_sub)\n",
    "\n",
    "arr[0,0:2] = [99, 98]\n",
    "print(arr)\n",
    "print(arr_sub)\n",
    "print()\n",
    "\n",
    "# python stadard list\n",
    "array = [[1,2,3],[4,5,6]]\n",
    "temp = array[0][0:2]\n",
    "print(temp)\n",
    "array[0][0:2] = [99, 98]\n",
    "print(array)\n",
    "print(temp)"
   ]
  },
  {
   "cell_type": "code",
   "execution_count": 15,
   "metadata": {
    "scrolled": true
   },
   "outputs": [
    {
     "name": "stdout",
     "output_type": "stream",
     "text": [
      "6\n",
      "{8, 1, 2, 5}\n",
      "[8, 1, 2, 5]\n",
      "[1 2 5 8]\n"
     ]
    }
   ],
   "source": [
    "import numpy as np\n",
    "nums = [1,2,2,5,8,8]\n",
    "print(len(nums))\n",
    "print(set(nums))\n",
    "print(list(set(nums)))\n",
    "print(np.unique(nums))"
   ]
  },
  {
   "cell_type": "code",
   "execution_count": 16,
   "metadata": {},
   "outputs": [
    {
     "name": "stdout",
     "output_type": "stream",
     "text": [
      "3.0\n",
      "3.0\n"
     ]
    }
   ],
   "source": [
    "aa = [1,2,3,4,5]\n",
    "\n",
    "def list_mean(list=[]):\n",
    "    if len(list) == 0:\n",
    "        return 0\n",
    "    \n",
    "    return sum(list) / len(list)\n",
    "\n",
    "print(list_mean(aa))\n",
    "\n",
    "import functools \n",
    "print(functools.reduce(lambda x, y: x + y, aa) / len(aa))\n"
   ]
  },
  {
   "cell_type": "code",
   "execution_count": 17,
   "metadata": {},
   "outputs": [
    {
     "name": "stdout",
     "output_type": "stream",
     "text": [
      "time: 1606116090.8788269\n",
      "[ 1.41894428  4.01985532  2.97462568  1.04063467 -0.51857174 -0.25740004\n",
      "  1.6506243  -0.3252404   1.74497877 -3.22825261 -0.26236229 -1.91479447\n",
      " -2.45534308  1.91192959  3.32348702 -0.05790362  1.39969158  0.22599503\n",
      "  2.55284782  5.9772229   3.31569111  0.60050652  3.27231328  1.33125052\n",
      "  1.26977096  4.32455275  3.94640671  0.25418675  3.43239122  2.139042\n",
      " -0.39202605 -0.20784562 -1.59126579  3.6422841   2.77226009  3.40323812\n",
      "  5.35566844  2.57088606  2.58223012  2.78182121  4.04484022  1.10744403\n",
      " -0.90433554  0.21039339  2.57318674  1.11976232  0.85727943  2.56167626\n",
      "  2.80318335  0.74903216  3.76936703  2.83045768  3.75229087 -0.80996576\n",
      "  0.86039944  2.34649035  0.90427278 -1.5057142   0.33993159  1.17672367\n",
      "  3.9060299   0.93165243  1.41692111  3.73294585  1.17473705  1.56336429\n",
      "  5.56616449  0.93890306 -1.2287818   2.22285312  1.24503183  1.89060215\n",
      "  1.10287076  2.23529761  2.46812824  2.17441156  3.08108767  0.22457326\n",
      "  3.08135733  2.54031441  1.10445589  5.66956453  1.41381713 -0.43242839\n",
      "  5.02780057 -0.8669484   0.2112202   1.87664449  4.00190138  0.76924161\n",
      " -1.23454904  0.42644544 -0.47492232  4.27654365  1.22501658  3.08540896\n",
      "  0.62899217  6.50695591  0.3166493  -3.88963937]\n",
      "mean: 1.627216816342552\n",
      "std : 1.9809681102704462\n"
     ]
    }
   ],
   "source": [
    "import numpy as np\n",
    "import time\n",
    "\n",
    "curr_time = time.time()\n",
    "print(f\"time: {curr_time}\")\n",
    "np.random.seed(int(curr_time))\n",
    "\n",
    "normal_sample = np.random.normal(loc = 2, scale = 2, size = 100)\n",
    "print(normal_sample)\n",
    "print(f\"mean: {normal_sample.mean()}\")\n",
    "print(f\"std : {normal_sample.std()}\")"
   ]
  },
  {
   "cell_type": "code",
   "execution_count": 18,
   "metadata": {
    "scrolled": false
   },
   "outputs": [
    {
     "name": "stdout",
     "output_type": "stream",
     "text": [
      "<class 'pandas.core.frame.DataFrame'>\n",
      "<class 'pandas.core.indexes.range.RangeIndex'>\n",
      "<class 'numpy.ndarray'>\n",
      "   0  1\n",
      "0  1  a\n",
      "1  2  b\n",
      "2  3  c\n",
      "3  4  d\n",
      "\n",
      "a    2\n",
      "b    4\n",
      "c    6\n",
      "d    8\n",
      "dtype: int64\n",
      "0     2a\n",
      "1     4a\n",
      "2     8a\n",
      "3     9a\n",
      "4    15a\n",
      "dtype: object\n",
      "0\n",
      "0     2\n",
      "1     4\n",
      "2     8\n",
      "3     9\n",
      "4    15\n",
      "dtype: int64\n"
     ]
    }
   ],
   "source": [
    "import pandas as pd\n",
    "data = pd.DataFrame([[1,'a'],[2,'b'],[3,'c'],[4,'d']])\n",
    "print(type(data))\n",
    "print(type(data.index))\n",
    "print(type(data.values))\n",
    "print(data)\n",
    "print()\n",
    "\n",
    "ser2 = pd.Series([2,4,6,8], index=[\"a\",\"b\",\"c\",\"d\"])\n",
    "print(ser2)\n",
    "\n",
    "ser = pd.Series([2,4,8,9,15])\n",
    "print(ser.astype(\"str\") + \"a\")\n",
    "\n",
    "print((ser[ser == ser.min()].index[0]))\n",
    "print(ser)"
   ]
  },
  {
   "cell_type": "code",
   "execution_count": 19,
   "metadata": {
    "scrolled": true
   },
   "outputs": [
    {
     "name": "stdout",
     "output_type": "stream",
     "text": [
      "   aa bb\n",
      "0   1  a\n",
      "1   2  b\n",
      "2   3  c\n"
     ]
    }
   ],
   "source": [
    "df = pd.DataFrame({\n",
    "    \"aa\": [1,2,3],\n",
    "    \"bb\": [\"a\",\"b\",\"c\"]\n",
    "})\n",
    "print(df)"
   ]
  },
  {
   "cell_type": "code",
   "execution_count": 20,
   "metadata": {},
   "outputs": [
    {
     "name": "stdout",
     "output_type": "stream",
     "text": [
      "   aa  bb\n",
      "a   0   1\n",
      "b   2   3\n",
      "c   4   5\n",
      "a    0\n",
      "b    2\n",
      "c    4\n",
      "Name: aa, dtype: int32\n",
      "a    0\n",
      "b    2\n",
      "c    4\n",
      "Name: aa, dtype: int32\n",
      "2\n",
      "aa    0\n",
      "bb    1\n",
      "Name: a, dtype: int32\n",
      "0\n"
     ]
    }
   ],
   "source": [
    "import numpy as np\n",
    "import pandas as pd\n",
    "\n",
    "df = pd.DataFrame(np.arange(6).reshape(3,2), index=[\"a\",\"b\",\"c\"], columns=[\"aa\",\"bb\"])\n",
    "print(df)\n",
    "print(df.aa)\n",
    "print(df[\"aa\"])\n",
    "print(df[\"aa\"][1])\n",
    "print(df.iloc[0,:])\n",
    "print(df.loc[\"a\", \"aa\"])"
   ]
  },
  {
   "cell_type": "code",
   "execution_count": 21,
   "metadata": {
    "scrolled": true
   },
   "outputs": [
    {
     "name": "stdout",
     "output_type": "stream",
     "text": [
      "Index(['aa', 'bb'], dtype='object')\n",
      "   XX  yy\n",
      "a   0   1\n",
      "b   2   3\n",
      "c   4   5\n",
      "(3, 2)\n"
     ]
    }
   ],
   "source": [
    "print(df.columns)\n",
    "df.columns = ['xx', 'yy']\n",
    "df.columns.values[0] = 'XX'\n",
    "print(df)\n",
    "\n",
    "df.rename(columns={\"XX\":\"obs\"})\n",
    "\n",
    "print(df.shape)"
   ]
  },
  {
   "cell_type": "code",
   "execution_count": 22,
   "metadata": {},
   "outputs": [
    {
     "data": {
      "text/html": [
       "<div>\n",
       "<style scoped>\n",
       "    .dataframe tbody tr th:only-of-type {\n",
       "        vertical-align: middle;\n",
       "    }\n",
       "\n",
       "    .dataframe tbody tr th {\n",
       "        vertical-align: top;\n",
       "    }\n",
       "\n",
       "    .dataframe thead th {\n",
       "        text-align: right;\n",
       "    }\n",
       "</style>\n",
       "<table border=\"1\" class=\"dataframe\">\n",
       "  <thead>\n",
       "    <tr style=\"text-align: right;\">\n",
       "      <th></th>\n",
       "      <th>datetime</th>\n",
       "      <th>season</th>\n",
       "      <th>holiday</th>\n",
       "      <th>workingday</th>\n",
       "      <th>weather</th>\n",
       "      <th>temp</th>\n",
       "      <th>atemp</th>\n",
       "      <th>humidity</th>\n",
       "      <th>windspeed</th>\n",
       "      <th>casual</th>\n",
       "      <th>registered</th>\n",
       "      <th>count</th>\n",
       "    </tr>\n",
       "  </thead>\n",
       "  <tbody>\n",
       "    <tr>\n",
       "      <th>0</th>\n",
       "      <td>2011-01-01 00:00:00</td>\n",
       "      <td>1</td>\n",
       "      <td>0</td>\n",
       "      <td>0</td>\n",
       "      <td>1</td>\n",
       "      <td>9.84</td>\n",
       "      <td>14.395</td>\n",
       "      <td>81</td>\n",
       "      <td>0.0</td>\n",
       "      <td>3</td>\n",
       "      <td>13</td>\n",
       "      <td>16</td>\n",
       "    </tr>\n",
       "    <tr>\n",
       "      <th>1</th>\n",
       "      <td>2011-01-01 01:00:00</td>\n",
       "      <td>1</td>\n",
       "      <td>0</td>\n",
       "      <td>0</td>\n",
       "      <td>1</td>\n",
       "      <td>9.02</td>\n",
       "      <td>13.635</td>\n",
       "      <td>80</td>\n",
       "      <td>0.0</td>\n",
       "      <td>8</td>\n",
       "      <td>32</td>\n",
       "      <td>40</td>\n",
       "    </tr>\n",
       "  </tbody>\n",
       "</table>\n",
       "</div>"
      ],
      "text/plain": [
       "              datetime  season  holiday  workingday  weather  temp   atemp  \\\n",
       "0  2011-01-01 00:00:00       1        0           0        1  9.84  14.395   \n",
       "1  2011-01-01 01:00:00       1        0           0        1  9.02  13.635   \n",
       "\n",
       "   humidity  windspeed  casual  registered  count  \n",
       "0        81        0.0       3          13     16  \n",
       "1        80        0.0       8          32     40  "
      ]
     },
     "execution_count": 22,
     "metadata": {},
     "output_type": "execute_result"
    }
   ],
   "source": [
    "df = pd.read_csv(\"data/bike.csv\")\n",
    "df.head(2)\n",
    "# df.iloc[:2]"
   ]
  },
  {
   "cell_type": "code",
   "execution_count": 23,
   "metadata": {},
   "outputs": [
    {
     "data": {
      "text/html": [
       "<div>\n",
       "<style scoped>\n",
       "    .dataframe tbody tr th:only-of-type {\n",
       "        vertical-align: middle;\n",
       "    }\n",
       "\n",
       "    .dataframe tbody tr th {\n",
       "        vertical-align: top;\n",
       "    }\n",
       "\n",
       "    .dataframe thead th {\n",
       "        text-align: right;\n",
       "    }\n",
       "</style>\n",
       "<table border=\"1\" class=\"dataframe\">\n",
       "  <thead>\n",
       "    <tr style=\"text-align: right;\">\n",
       "      <th></th>\n",
       "      <th>AWS_ID</th>\n",
       "      <th>TM</th>\n",
       "      <th>TA</th>\n",
       "      <th>Wind</th>\n",
       "      <th>X.</th>\n",
       "    </tr>\n",
       "  </thead>\n",
       "  <tbody>\n",
       "    <tr>\n",
       "      <th>0</th>\n",
       "      <td>108</td>\n",
       "      <td>2016-07-01 00</td>\n",
       "      <td>24.2</td>\n",
       "      <td>2.3</td>\n",
       "      <td>=</td>\n",
       "    </tr>\n",
       "    <tr>\n",
       "      <th>1</th>\n",
       "      <td>108</td>\n",
       "      <td>2016-07-01 01</td>\n",
       "      <td>24.3</td>\n",
       "      <td>2.3</td>\n",
       "      <td>=</td>\n",
       "    </tr>\n",
       "  </tbody>\n",
       "</table>\n",
       "</div>"
      ],
      "text/plain": [
       "   AWS_ID             TM    TA  Wind X.\n",
       "0     108  2016-07-01 00  24.2   2.3  =\n",
       "1     108  2016-07-01 01  24.3   2.3  ="
      ]
     },
     "execution_count": 23,
     "metadata": {},
     "output_type": "execute_result"
    }
   ],
   "source": [
    "aws = pd.read_csv(\"data/AWS_sample.txt\", sep=\"#\")\n",
    "aws.head(2)\n",
    "# aws.iloc[:2]"
   ]
  },
  {
   "cell_type": "code",
   "execution_count": 24,
   "metadata": {},
   "outputs": [
    {
     "data": {
      "text/html": [
       "<div>\n",
       "<style scoped>\n",
       "    .dataframe tbody tr th:only-of-type {\n",
       "        vertical-align: middle;\n",
       "    }\n",
       "\n",
       "    .dataframe tbody tr th {\n",
       "        vertical-align: top;\n",
       "    }\n",
       "\n",
       "    .dataframe thead th {\n",
       "        text-align: right;\n",
       "    }\n",
       "</style>\n",
       "<table border=\"1\" class=\"dataframe\">\n",
       "  <thead>\n",
       "    <tr style=\"text-align: right;\">\n",
       "      <th></th>\n",
       "      <th>Sepal.Length</th>\n",
       "      <th>Sepal.Width</th>\n",
       "      <th>Petal.Length</th>\n",
       "      <th>Petal.Width</th>\n",
       "      <th>Species</th>\n",
       "    </tr>\n",
       "  </thead>\n",
       "  <tbody>\n",
       "    <tr>\n",
       "      <th>0</th>\n",
       "      <td>5.1</td>\n",
       "      <td>3.5</td>\n",
       "      <td>1.4</td>\n",
       "      <td>0.2</td>\n",
       "      <td>setosa</td>\n",
       "    </tr>\n",
       "    <tr>\n",
       "      <th>1</th>\n",
       "      <td>4.9</td>\n",
       "      <td>3.0</td>\n",
       "      <td>1.4</td>\n",
       "      <td>0.2</td>\n",
       "      <td>setosa</td>\n",
       "    </tr>\n",
       "  </tbody>\n",
       "</table>\n",
       "</div>"
      ],
      "text/plain": [
       "   Sepal.Length  Sepal.Width  Petal.Length  Petal.Width Species\n",
       "0           5.1          3.5           1.4          0.2  setosa\n",
       "1           4.9          3.0           1.4          0.2  setosa"
      ]
     },
     "execution_count": 24,
     "metadata": {},
     "output_type": "execute_result"
    }
   ],
   "source": [
    "df = pd.read_excel(\"data/iris_xlsx.xlsx\")\n",
    "df.head(2)\n",
    "# df.iloc[:2]"
   ]
  },
  {
   "cell_type": "code",
   "execution_count": 31,
   "metadata": {},
   "outputs": [
    {
     "name": "stdout",
     "output_type": "stream",
     "text": [
      "   Sepal.Length  Sepal.Width  Petal.Length  Petal.Width Species\n",
      "0           5.1          3.5           1.4          0.2  setosa\n",
      "1           4.9          3.0           1.4          0.2  setosa\n",
      "2           4.7          3.2           1.3          0.2  setosa\n",
      "3           4.6          3.1           1.5          0.2  setosa\n",
      "4           5.0          3.6           1.4          0.2  setosa\n"
     ]
    },
    {
     "ename": "KeyError",
     "evalue": "'season'",
     "output_type": "error",
     "traceback": [
      "\u001b[1;31m---------------------------------------------------------------------------\u001b[0m",
      "\u001b[1;31mKeyError\u001b[0m                                  Traceback (most recent call last)",
      "\u001b[1;32mD:\\Anaconda3\\lib\\site-packages\\pandas\\core\\indexes\\base.py\u001b[0m in \u001b[0;36mget_loc\u001b[1;34m(self, key, method, tolerance)\u001b[0m\n\u001b[0;32m   2645\u001b[0m             \u001b[1;32mtry\u001b[0m\u001b[1;33m:\u001b[0m\u001b[1;33m\u001b[0m\u001b[1;33m\u001b[0m\u001b[0m\n\u001b[1;32m-> 2646\u001b[1;33m                 \u001b[1;32mreturn\u001b[0m \u001b[0mself\u001b[0m\u001b[1;33m.\u001b[0m\u001b[0m_engine\u001b[0m\u001b[1;33m.\u001b[0m\u001b[0mget_loc\u001b[0m\u001b[1;33m(\u001b[0m\u001b[0mkey\u001b[0m\u001b[1;33m)\u001b[0m\u001b[1;33m\u001b[0m\u001b[1;33m\u001b[0m\u001b[0m\n\u001b[0m\u001b[0;32m   2647\u001b[0m             \u001b[1;32mexcept\u001b[0m \u001b[0mKeyError\u001b[0m\u001b[1;33m:\u001b[0m\u001b[1;33m\u001b[0m\u001b[1;33m\u001b[0m\u001b[0m\n",
      "\u001b[1;32mpandas\\_libs\\index.pyx\u001b[0m in \u001b[0;36mpandas._libs.index.IndexEngine.get_loc\u001b[1;34m()\u001b[0m\n",
      "\u001b[1;32mpandas\\_libs\\index.pyx\u001b[0m in \u001b[0;36mpandas._libs.index.IndexEngine.get_loc\u001b[1;34m()\u001b[0m\n",
      "\u001b[1;32mpandas\\_libs\\hashtable_class_helper.pxi\u001b[0m in \u001b[0;36mpandas._libs.hashtable.PyObjectHashTable.get_item\u001b[1;34m()\u001b[0m\n",
      "\u001b[1;32mpandas\\_libs\\hashtable_class_helper.pxi\u001b[0m in \u001b[0;36mpandas._libs.hashtable.PyObjectHashTable.get_item\u001b[1;34m()\u001b[0m\n",
      "\u001b[1;31mKeyError\u001b[0m: 'season'",
      "\nDuring handling of the above exception, another exception occurred:\n",
      "\u001b[1;31mKeyError\u001b[0m                                  Traceback (most recent call last)",
      "\u001b[1;32m<ipython-input-31-80a98880330e>\u001b[0m in \u001b[0;36m<module>\u001b[1;34m\u001b[0m\n\u001b[0;32m      1\u001b[0m \u001b[1;31m# df_sub = df[df.season == 1]\u001b[0m\u001b[1;33m\u001b[0m\u001b[1;33m\u001b[0m\u001b[1;33m\u001b[0m\u001b[0m\n\u001b[0;32m      2\u001b[0m \u001b[0mprint\u001b[0m\u001b[1;33m(\u001b[0m\u001b[0mdf\u001b[0m\u001b[1;33m.\u001b[0m\u001b[0mhead\u001b[0m\u001b[1;33m(\u001b[0m\u001b[1;33m)\u001b[0m\u001b[1;33m)\u001b[0m\u001b[1;33m\u001b[0m\u001b[1;33m\u001b[0m\u001b[0m\n\u001b[1;32m----> 3\u001b[1;33m \u001b[0mdf_sub\u001b[0m \u001b[1;33m=\u001b[0m \u001b[0mdf\u001b[0m\u001b[1;33m.\u001b[0m\u001b[0mloc\u001b[0m\u001b[1;33m[\u001b[0m\u001b[0mdf\u001b[0m\u001b[1;33m[\u001b[0m\u001b[1;34m\"season\"\u001b[0m\u001b[1;33m]\u001b[0m \u001b[1;33m==\u001b[0m \u001b[1;36m1\u001b[0m\u001b[1;33m,\u001b[0m \u001b[1;33m:\u001b[0m\u001b[1;33m]\u001b[0m  \u001b[1;31m# 권장\u001b[0m\u001b[1;33m\u001b[0m\u001b[1;33m\u001b[0m\u001b[0m\n\u001b[0m\u001b[0;32m      4\u001b[0m \u001b[0mprint\u001b[0m\u001b[1;33m(\u001b[0m\u001b[0mdf_sub\u001b[0m\u001b[1;33m)\u001b[0m\u001b[1;33m\u001b[0m\u001b[1;33m\u001b[0m\u001b[0m\n\u001b[0;32m      5\u001b[0m \u001b[1;33m\u001b[0m\u001b[0m\n",
      "\u001b[1;32mD:\\Anaconda3\\lib\\site-packages\\pandas\\core\\frame.py\u001b[0m in \u001b[0;36m__getitem__\u001b[1;34m(self, key)\u001b[0m\n\u001b[0;32m   2798\u001b[0m             \u001b[1;32mif\u001b[0m \u001b[0mself\u001b[0m\u001b[1;33m.\u001b[0m\u001b[0mcolumns\u001b[0m\u001b[1;33m.\u001b[0m\u001b[0mnlevels\u001b[0m \u001b[1;33m>\u001b[0m \u001b[1;36m1\u001b[0m\u001b[1;33m:\u001b[0m\u001b[1;33m\u001b[0m\u001b[1;33m\u001b[0m\u001b[0m\n\u001b[0;32m   2799\u001b[0m                 \u001b[1;32mreturn\u001b[0m \u001b[0mself\u001b[0m\u001b[1;33m.\u001b[0m\u001b[0m_getitem_multilevel\u001b[0m\u001b[1;33m(\u001b[0m\u001b[0mkey\u001b[0m\u001b[1;33m)\u001b[0m\u001b[1;33m\u001b[0m\u001b[1;33m\u001b[0m\u001b[0m\n\u001b[1;32m-> 2800\u001b[1;33m             \u001b[0mindexer\u001b[0m \u001b[1;33m=\u001b[0m \u001b[0mself\u001b[0m\u001b[1;33m.\u001b[0m\u001b[0mcolumns\u001b[0m\u001b[1;33m.\u001b[0m\u001b[0mget_loc\u001b[0m\u001b[1;33m(\u001b[0m\u001b[0mkey\u001b[0m\u001b[1;33m)\u001b[0m\u001b[1;33m\u001b[0m\u001b[1;33m\u001b[0m\u001b[0m\n\u001b[0m\u001b[0;32m   2801\u001b[0m             \u001b[1;32mif\u001b[0m \u001b[0mis_integer\u001b[0m\u001b[1;33m(\u001b[0m\u001b[0mindexer\u001b[0m\u001b[1;33m)\u001b[0m\u001b[1;33m:\u001b[0m\u001b[1;33m\u001b[0m\u001b[1;33m\u001b[0m\u001b[0m\n\u001b[0;32m   2802\u001b[0m                 \u001b[0mindexer\u001b[0m \u001b[1;33m=\u001b[0m \u001b[1;33m[\u001b[0m\u001b[0mindexer\u001b[0m\u001b[1;33m]\u001b[0m\u001b[1;33m\u001b[0m\u001b[1;33m\u001b[0m\u001b[0m\n",
      "\u001b[1;32mD:\\Anaconda3\\lib\\site-packages\\pandas\\core\\indexes\\base.py\u001b[0m in \u001b[0;36mget_loc\u001b[1;34m(self, key, method, tolerance)\u001b[0m\n\u001b[0;32m   2646\u001b[0m                 \u001b[1;32mreturn\u001b[0m \u001b[0mself\u001b[0m\u001b[1;33m.\u001b[0m\u001b[0m_engine\u001b[0m\u001b[1;33m.\u001b[0m\u001b[0mget_loc\u001b[0m\u001b[1;33m(\u001b[0m\u001b[0mkey\u001b[0m\u001b[1;33m)\u001b[0m\u001b[1;33m\u001b[0m\u001b[1;33m\u001b[0m\u001b[0m\n\u001b[0;32m   2647\u001b[0m             \u001b[1;32mexcept\u001b[0m \u001b[0mKeyError\u001b[0m\u001b[1;33m:\u001b[0m\u001b[1;33m\u001b[0m\u001b[1;33m\u001b[0m\u001b[0m\n\u001b[1;32m-> 2648\u001b[1;33m                 \u001b[1;32mreturn\u001b[0m \u001b[0mself\u001b[0m\u001b[1;33m.\u001b[0m\u001b[0m_engine\u001b[0m\u001b[1;33m.\u001b[0m\u001b[0mget_loc\u001b[0m\u001b[1;33m(\u001b[0m\u001b[0mself\u001b[0m\u001b[1;33m.\u001b[0m\u001b[0m_maybe_cast_indexer\u001b[0m\u001b[1;33m(\u001b[0m\u001b[0mkey\u001b[0m\u001b[1;33m)\u001b[0m\u001b[1;33m)\u001b[0m\u001b[1;33m\u001b[0m\u001b[1;33m\u001b[0m\u001b[0m\n\u001b[0m\u001b[0;32m   2649\u001b[0m         \u001b[0mindexer\u001b[0m \u001b[1;33m=\u001b[0m \u001b[0mself\u001b[0m\u001b[1;33m.\u001b[0m\u001b[0mget_indexer\u001b[0m\u001b[1;33m(\u001b[0m\u001b[1;33m[\u001b[0m\u001b[0mkey\u001b[0m\u001b[1;33m]\u001b[0m\u001b[1;33m,\u001b[0m \u001b[0mmethod\u001b[0m\u001b[1;33m=\u001b[0m\u001b[0mmethod\u001b[0m\u001b[1;33m,\u001b[0m \u001b[0mtolerance\u001b[0m\u001b[1;33m=\u001b[0m\u001b[0mtolerance\u001b[0m\u001b[1;33m)\u001b[0m\u001b[1;33m\u001b[0m\u001b[1;33m\u001b[0m\u001b[0m\n\u001b[0;32m   2650\u001b[0m         \u001b[1;32mif\u001b[0m \u001b[0mindexer\u001b[0m\u001b[1;33m.\u001b[0m\u001b[0mndim\u001b[0m \u001b[1;33m>\u001b[0m \u001b[1;36m1\u001b[0m \u001b[1;32mor\u001b[0m \u001b[0mindexer\u001b[0m\u001b[1;33m.\u001b[0m\u001b[0msize\u001b[0m \u001b[1;33m>\u001b[0m \u001b[1;36m1\u001b[0m\u001b[1;33m:\u001b[0m\u001b[1;33m\u001b[0m\u001b[1;33m\u001b[0m\u001b[0m\n",
      "\u001b[1;32mpandas\\_libs\\index.pyx\u001b[0m in \u001b[0;36mpandas._libs.index.IndexEngine.get_loc\u001b[1;34m()\u001b[0m\n",
      "\u001b[1;32mpandas\\_libs\\index.pyx\u001b[0m in \u001b[0;36mpandas._libs.index.IndexEngine.get_loc\u001b[1;34m()\u001b[0m\n",
      "\u001b[1;32mpandas\\_libs\\hashtable_class_helper.pxi\u001b[0m in \u001b[0;36mpandas._libs.hashtable.PyObjectHashTable.get_item\u001b[1;34m()\u001b[0m\n",
      "\u001b[1;32mpandas\\_libs\\hashtable_class_helper.pxi\u001b[0m in \u001b[0;36mpandas._libs.hashtable.PyObjectHashTable.get_item\u001b[1;34m()\u001b[0m\n",
      "\u001b[1;31mKeyError\u001b[0m: 'season'"
     ]
    }
   ],
   "source": [
    "# df_sub = df[df.season == 1]\n",
    "print(df.head())\n",
    "df_sub = df.loc[df[\"season\"] == 1, :]  # 권장\n",
    "print(df_sub)\n",
    "\n",
    "# print(df_sub.head(2))\n",
    "# print(df_sub.shape)\n",
    "# print()\n",
    "\n",
    "# # df_sub2 = df[(df.season == 1) & (df.holiday == 1)]\n",
    "# df_sub2 = df.loc[(df[\"season\"] == 1) & (df[\"holiday\"] == 1), :]\n",
    "# print(df_sub2.head(2))\n",
    "# print(df_sub2.shape)"
   ]
  },
  {
   "cell_type": "code",
   "execution_count": 32,
   "metadata": {},
   "outputs": [
    {
     "name": "stdout",
     "output_type": "stream",
     "text": [
      "0.0    241.0\n",
      "1.0    367.0\n",
      "Name: casual, dtype: float64\n",
      "241\n",
      "367\n",
      "109\n"
     ]
    }
   ],
   "source": [
    "import pandas as pd\n",
    "df = pd.read_csv(\"data/bike.csv\")\n",
    "df_sub = df.loc[df[\"casual\"] >= df[\"casual\"].quantile(0.99), :]\n",
    "print(df_sub[\"casual\"].quantile([0,1]))\n",
    "print(df_sub[\"casual\"].min())\n",
    "print(df_sub[\"casual\"].max())\n",
    "print(len(df_sub))"
   ]
  },
  {
   "cell_type": "code",
   "execution_count": 33,
   "metadata": {
    "scrolled": true
   },
   "outputs": [
    {
     "name": "stdout",
     "output_type": "stream",
     "text": [
      "   Sepal.Length  Sepal.Width  Petal.Length  Petal.Width Species\n",
      "0           5.1          NaN           NaN          0.2  setosa\n",
      "1           4.9          3.0           1.4          0.2  setosa\n",
      "2           4.7          3.2           1.3          0.2  setosa\n",
      "3           4.6          3.1           1.5          0.2  setosa\n",
      "4           5.0          3.6           1.4          0.2  setosa\n",
      "length: 5\n",
      "\n",
      "   Sepal.Length  Sepal.Width  Petal.Length  Petal.Width Species\n",
      "0           5.1          0.0           0.0          0.2  setosa\n",
      "1           4.9          3.0           1.4          0.2  setosa\n",
      "2           4.7          3.2           1.3          0.2  setosa\n",
      "3           4.6          3.1           1.5          0.2  setosa\n",
      "4           5.0          3.6           1.4          0.2  setosa\n",
      "\n",
      "0    99.0\n",
      "1     3.0\n",
      "2     3.2\n",
      "3     3.1\n",
      "4     3.6\n",
      "Name: Sepal.Width, dtype: float64\n",
      "\n",
      "5.853846153846154\n",
      "5.8538461538461535\n",
      "5.8538461538461535\n"
     ]
    }
   ],
   "source": [
    "df = pd.read_csv(\"data/iris_missing.csv\")\n",
    "df_sub = df.head()\n",
    "print(df_sub)\n",
    "print(f\"length: {len(df_sub)}\")\n",
    "print()\n",
    "\n",
    "print(df_sub.fillna(0))\n",
    "print()\n",
    "\n",
    "print(df_sub[df_sub.columns[1]].fillna(99))\n",
    "print()\n",
    "\n",
    "print(np.mean(df.iloc[:,0]))\n",
    "print(np.nanmean(df.iloc[:,0]))\n",
    "print(df.iloc[:,0].sum() / (len(df) - df.iloc[:,0].isna().sum()))"
   ]
  },
  {
   "cell_type": "code",
   "execution_count": 35,
   "metadata": {},
   "outputs": [
    {
     "name": "stdout",
     "output_type": "stream",
     "text": [
      "      Sepal.Length  Sepal.Width  Petal.Length  Petal.Width Species  test2\n",
      "0              5.1        -77.0           NaN          0.2  setosa  3.225\n",
      "1              4.9          3.0           1.4          0.2  setosa  3.000\n",
      "2              4.7          3.2           1.3          0.2  setosa  3.200\n",
      "3              4.6          3.1           1.5          0.2  setosa  3.100\n",
      "4              5.0          3.6           1.4          0.2  setosa  3.600\n",
      "test          80.0        -77.0           NaN          NaN     NaN  3.225\n",
      "      Sepal.Length  Sepal.Width  Petal.Length  Petal.Width Species  test2\n",
      "0              5.1          NaN           NaN          0.2  setosa  3.225\n",
      "1              4.9          3.0           1.4          0.2  setosa  3.000\n",
      "2              4.7          3.2           1.3          0.2  setosa  3.200\n",
      "3              4.6          3.1           1.5          0.2  setosa  3.100\n",
      "4              5.0          3.6           1.4          0.2  setosa  3.600\n",
      "test           NaN          NaN           NaN          NaN     NaN    NaN\n"
     ]
    }
   ],
   "source": [
    "print(df_sub.fillna(value = {df_sub.columns[0]: 80, df_sub.columns[1]: -77}))\n",
    "\n",
    "# df_sub[\"test\"] = df_sub[df_sub.columns[1]].fillna(df_sub[df_sub.columns[1]].mean())\n",
    "df_sub.loc[\"test\",:] = df_sub[df_sub.columns[1]].fillna(df_sub[df_sub.columns[1]].mean())\n",
    "# df_sub[\"test2\"] = df_sub[df_sub.columns[1]].fillna(df_sub[df_sub.columns[1]].mean())\n",
    "print(df_sub)"
   ]
  },
  {
   "cell_type": "code",
   "execution_count": 45,
   "metadata": {},
   "outputs": [
    {
     "name": "stdout",
     "output_type": "stream",
     "text": [
      "   Sepal.Length  Sepal.Width  Petal.Length  Petal.Width\n",
      "5           5.4          3.9           1.7          0.4\n",
      "6           NaN          NaN           NaN          NaN\n",
      "7           5.0          3.4           NaN          0.2\n",
      "8           4.4          2.9           1.4          0.2\n",
      "\n",
      "5    5.4\n",
      "6    NaN\n",
      "7    NaN\n",
      "8    4.4\n",
      "Name: Sepal.Length, dtype: float64\n",
      "   Sepal.Length  Sepal.Width  Petal.Length  Petal.Width\n",
      "5           5.4          3.9           1.7          0.4\n",
      "6           NaN          NaN           NaN          NaN\n",
      "7           5.0          3.4           NaN          0.2\n",
      "8           4.4          2.9           NaN          0.2\n",
      "   Sepal.Length  Sepal.Width  Petal.Length  Petal.Width\n",
      "5           5.4          3.9           1.7          0.4\n",
      "7           5.0          3.4           NaN          0.2\n",
      "8           4.4          2.9           1.4          0.2\n"
     ]
    }
   ],
   "source": [
    "import numpy as np\n",
    "import pandas as pd\n",
    "df = pd.read_csv(\"data/iris_missing.csv\")\n",
    "df_mis = df.iloc[5:9,0:-1]\n",
    "print(df_mis.head())\n",
    "print()\n",
    "\n",
    "print(df_mis.iloc[:,0].replace(5.0, np.nan))\n",
    "print(df_mis.replace(1.4, np.nan))\n",
    "\n",
    "print(df_mis.dropna(how='all'))"
   ]
  },
  {
   "cell_type": "code",
   "execution_count": 46,
   "metadata": {},
   "outputs": [
    {
     "name": "stdout",
     "output_type": "stream",
     "text": [
      "5    False\n",
      "6     True\n",
      "7    False\n",
      "8    False\n",
      "Name: Sepal.Length, dtype: bool\n",
      "5    False\n",
      "6     True\n",
      "7    False\n",
      "8    False\n",
      "Name: Sepal.Length, dtype: bool\n"
     ]
    }
   ],
   "source": [
    "print(df_mis.iloc[:,0].isnull())\n",
    "print()\n",
    "print(df_mis.iloc[:,0].isna())"
   ]
  },
  {
   "cell_type": "code",
   "execution_count": 48,
   "metadata": {},
   "outputs": [
    {
     "name": "stdout",
     "output_type": "stream",
     "text": [
      "5     True\n",
      "6    False\n",
      "7     True\n",
      "8     True\n",
      "Name: Sepal.Length, dtype: bool\n",
      "\n",
      "5     True\n",
      "6    False\n",
      "7     True\n",
      "8     True\n",
      "Name: Sepal.Length, dtype: bool\n"
     ]
    }
   ],
   "source": [
    "print(df_mis.iloc[:,0].notnull())\n",
    "print()\n",
    "print(df_mis.iloc[:,0].notna())"
   ]
  },
  {
   "cell_type": "code",
   "execution_count": 50,
   "metadata": {},
   "outputs": [
    {
     "name": "stdout",
     "output_type": "stream",
     "text": [
      "Sepal.Length    1\n",
      "Sepal.Width     1\n",
      "Petal.Length    2\n",
      "Petal.Width     1\n",
      "dtype: int64\n"
     ]
    }
   ],
   "source": [
    "print(df_mis.isna().sum())"
   ]
  },
  {
   "cell_type": "code",
   "execution_count": 53,
   "metadata": {},
   "outputs": [
    {
     "name": "stdout",
     "output_type": "stream",
     "text": [
      "  class  value\n",
      "1     C      1\n",
      "2     B      2\n",
      "0     A      3\n"
     ]
    }
   ],
   "source": [
    "df = pd.DataFrame([[\"A\",3], [\"C\",1], [\"B\", 2]], columns=[\"class\",\"value\"])\n",
    "print(df.sort_values(by=df.columns[0], ascending=False))"
   ]
  },
  {
   "cell_type": "code",
   "execution_count": 66,
   "metadata": {},
   "outputs": [
    {
     "name": "stdout",
     "output_type": "stream",
     "text": [
      "   casual  registered  count\n",
      "0       3          13     16\n",
      "1       8          32     40\n",
      "2       5          27     32\n",
      "3       3          10     13\n",
      "4       0           1      1\n",
      "5       0           1      1\n",
      "\n",
      "   casual  registered  count\n",
      "1       8          32     40\n",
      "2       5          27     32\n",
      "3       3          10     13\n",
      "0       3          13     16\n",
      "4       0           1      1\n",
      "5       0           1      1\n",
      "\n",
      "   index  casual  registered  count\n",
      "0      1       8          32     40\n",
      "1      2       5          27     32\n",
      "2      3       3          10     13\n",
      "3      0       3          13     16\n",
      "4      4       0           1      1\n",
      "5      5       0           1      1\n",
      "\n"
     ]
    }
   ],
   "source": [
    "df = pd.read_csv(\"data/bike.csv\")\n",
    "df_sub = df.iloc[:6, 9:12]\n",
    "print(df_sub)\n",
    "print()\n",
    "\n",
    "df_sub = df_sub.sort_values(by=list(df_sub.columns[0:2].values), ascending = [False, True])\n",
    "print(df_sub)\n",
    "print()\n",
    "\n",
    "df_sub = df_sub.reset_index(drop = True)\n",
    "print(df_sub)\n",
    "print()"
   ]
  },
  {
   "cell_type": "code",
   "execution_count": 70,
   "metadata": {},
   "outputs": [
    {
     "name": "stdout",
     "output_type": "stream",
     "text": [
      "length: 10886\n",
      "2177.2000000000003\n",
      "\n",
      "                  datetime  season  holiday  workingday  weather   temp  \\\n",
      "8146   2012-06-19 19:00:00       2        0           1        1  32.80   \n",
      "8440   2012-07-13 01:00:00       3        0           1        2  27.88   \n",
      "5196   2011-12-10 14:00:00       4        0           0        1  13.94   \n",
      "1129   2011-03-11 17:00:00       1        0           1        1  13.94   \n",
      "10364  2012-11-17 06:00:00       4        0           0        1   9.84   \n",
      "8672   2012-08-03 17:00:00       3        0           1        2  34.44   \n",
      "9224   2012-09-07 17:00:00       3        0           1        1  31.98   \n",
      "5867   2012-01-19 16:00:00       1        0           1        1  10.66   \n",
      "2589   2011-06-15 19:00:00       2        0           1        1  28.70   \n",
      "8845   2012-08-10 22:00:00       3        0           1        1  29.52   \n",
      "\n",
      "        atemp  humidity  windspeed  casual  registered  count  \n",
      "8146   38.635        59    15.0013      82         432    514  \n",
      "8440   31.820        54     7.0015      17          42     59  \n",
      "5196   15.150        31    22.0028      51         242    293  \n",
      "1129   15.910        49    15.0013      23         200    223  \n",
      "10364  11.365        70    15.0013       0          21     21  \n",
      "8672   40.150        53    19.0012      95         646    741  \n",
      "9224   37.120        59    22.0028      88         684    772  \n",
      "5867   11.365        41    22.0028       8         185    193  \n",
      "2589   31.820        37    19.0012      54         362    416  \n",
      "8845   34.850        74    19.0012      50         168    218  \n",
      "\n",
      "                  datetime  season  holiday  workingday  weather   temp  \\\n",
      "164    2011-01-08 03:00:00       1        0           0        3   7.38   \n",
      "9733   2012-10-09 22:00:00       4        0           1        2  19.68   \n",
      "3459   2011-08-14 01:00:00       3        0           0        3  26.24   \n",
      "5993   2012-02-05 22:00:00       1        0           0        1  10.66   \n",
      "10800  2012-12-16 10:00:00       4        0           0        2  14.76   \n",
      "...                    ...     ...      ...         ...      ...    ...   \n",
      "4609   2011-11-05 03:00:00       4        0           0        1  12.30   \n",
      "7851   2012-06-07 12:00:00       2        0           1        1  28.70   \n",
      "7273   2012-05-02 10:00:00       2        0           1        2  23.78   \n",
      "3338   2011-08-09 00:00:00       3        0           1        1  29.52   \n",
      "6218   2012-02-15 08:00:00       1        0           1        1  13.12   \n",
      "\n",
      "        atemp  humidity  windspeed  casual  registered  count  \n",
      "164     9.850        55    11.0014       0           7      7  \n",
      "9733   23.485        77     6.0032       7         155    162  \n",
      "3459   28.790        89    15.0013      16          57     73  \n",
      "5993   13.635        60     7.0015       9         182    191  \n",
      "10800  17.425        87     8.9981      42         215    257  \n",
      "...       ...       ...        ...     ...         ...    ...  \n",
      "4609   13.635        52    19.9995       0           8      8  \n",
      "7851   31.820        42     0.0000      62         274    336  \n",
      "7273   27.275        83     7.0015      28         147    175  \n",
      "3338   34.850        79     8.9981      10          25     35  \n",
      "6218   14.395        61    23.9994       7         508    515  \n",
      "\n",
      "[2177 rows x 12 columns]\n",
      "\n"
     ]
    }
   ],
   "source": [
    "import time\n",
    "bike = pd.read_csv(\"data/bike.csv\")\n",
    "np.random.seed(int(time.time()))\n",
    "\n",
    "print(f\"length: {len(bike)}\")\n",
    "print(len(bike) * 0.2)\n",
    "print()\n",
    "\n",
    "bike_sample01 = bike.sample(n = 10, replace = False)\n",
    "bike_sample02 = bike.sample(frac = 0.2, replace = False)\n",
    "print(bike_sample01)\n",
    "print()\n",
    "\n",
    "print(bike_sample02)\n",
    "print()"
   ]
  },
  {
   "cell_type": "code",
   "execution_count": 76,
   "metadata": {},
   "outputs": [
    {
     "name": "stdout",
     "output_type": "stream",
     "text": [
      "   index             datetime  season  holiday  workingday  weather   temp  \\\n",
      "0   9349  2012-09-12 22:00:00       3        0           1        1  22.96   \n",
      "1   4102  2011-10-02 23:00:00       4        0           0        1  14.76   \n",
      "2   3211  2011-08-03 17:00:00       3        0           1        2  28.70   \n",
      "\n",
      "    atemp  humidity  windspeed  casual  registered  count  \n",
      "0  26.515        64     6.0032      23         189    212  \n",
      "1  18.180        81     6.0032       6          19     25  \n",
      "2  33.335        79     0.0000      47         378    425  \n",
      "\n",
      "   index             datetime  season  holiday  workingday  weather   temp  \\\n",
      "0   9349  2012-09-12 22:00:00       3        0           1        1  22.96   \n",
      "1   4102  2011-10-02 23:00:00       4        0           0        1  14.76   \n",
      "2   3211  2011-08-03 17:00:00       3        0           1        2  28.70   \n",
      "\n",
      "    atemp  humidity  windspeed  casual  registered  count  \n",
      "0  26.515        64     6.0032      23         189    212  \n",
      "1  18.180        81     6.0032       6          19     25  \n",
      "2  33.335        79     0.0000      47         378    425  \n",
      "\n",
      "Index(['datetime', 'season', 'holiday', 'workingday', 'weather', 'temp',\n",
      "       'atemp', 'humidity', 'windspeed', 'casual', 'registered', 'count'],\n",
      "      dtype='object')\n",
      "\n",
      "                 temp\n",
      "season holiday       \n",
      "1      0         9.84\n",
      "       0         9.02\n",
      "       0         9.02\n",
      "       0         9.84\n",
      "       0         9.84\n",
      "...               ...\n",
      "4      0        15.58\n",
      "       0        14.76\n",
      "       0        13.94\n",
      "       0        13.94\n",
      "       0        13.12\n",
      "\n",
      "[10886 rows x 1 columns]\n"
     ]
    }
   ],
   "source": [
    "bike_sample = bike.sample(n = 3)\n",
    "bike_sample = bike_sample.reset_index()\n",
    "print(bike_sample)\n",
    "print()\n",
    "\n",
    "bike_sample.reindex(list(range(4)))\n",
    "print(bike_sample)\n",
    "print()\n",
    "\n",
    "print(bike.columns)\n",
    "print()\n",
    "\n",
    "bike2 = bike.loc[:, [\"season\",\"holiday\",\"temp\"]]\n",
    "bike2 = bike2.set_index([\"season\",\"holiday\"])\n",
    "print(bike2)"
   ]
  },
  {
   "cell_type": "code",
   "execution_count": 80,
   "metadata": {},
   "outputs": [
    {
     "name": "stdout",
     "output_type": "stream",
     "text": [
      "0        1월\n",
      "1        1월\n",
      "2        1월\n",
      "3        1월\n",
      "4        1월\n",
      "         ..\n",
      "10881    4월\n",
      "10882    4월\n",
      "10883    4월\n",
      "10884    4월\n",
      "10885    4월\n",
      "Name: season, Length: 10886, dtype: object\n"
     ]
    }
   ],
   "source": [
    "bike_temp = bike.loc[:,\"season\"].astype(\"str\") + \"월\"\n",
    "print(bike_temp)"
   ]
  },
  {
   "cell_type": "code",
   "execution_count": 87,
   "metadata": {
    "scrolled": true
   },
   "outputs": [
    {
     "name": "stdout",
     "output_type": "stream",
     "text": [
      "              datetime  season  holiday  workingday  weather  temp   atemp  \\\n",
      "0  2011-01-01 00:00:00       1        0           0        1  9.84  14.395   \n",
      "1  2011-01-01 01:00:00       1        0           0        1  9.02  13.635   \n",
      "2  2011-01-01 02:00:00       1        0           0        1  9.02  13.635   \n",
      "3  2011-01-01 03:00:00       1        0           0        1  9.84  14.395   \n",
      "4  2011-01-01 04:00:00       1        0           0        1  9.84  14.395   \n",
      "\n",
      "   humidity  windspeed  casual  registered  count  \n",
      "0        81        0.0       3          13     16  \n",
      "1        80        0.0       8          32     40  \n",
      "2        80        0.0       5          27     32  \n",
      "3        75        0.0       3          10     13  \n",
      "4        75        0.0       0           1      1  \n",
      "\n",
      "                  datetime  season  holiday  workingday  weather   temp  \\\n",
      "10881  2012-12-19 19:00:00       4        0           1        1  15.58   \n",
      "10882  2012-12-19 20:00:00       4        0           1        1  14.76   \n",
      "10883  2012-12-19 21:00:00       4        0           1        1  13.94   \n",
      "10884  2012-12-19 22:00:00       4        0           1        1  13.94   \n",
      "10885  2012-12-19 23:00:00       4        0           1        1  13.12   \n",
      "\n",
      "        atemp  humidity  windspeed  casual  registered  count  \n",
      "10881  19.695        50    26.0027       7         329    336  \n",
      "10882  17.425        57    15.0013      10         231    241  \n",
      "10883  15.910        61    15.0013       4         164    168  \n",
      "10884  17.425        61     6.0032      12         117    129  \n",
      "10885  16.665        66     8.9981       4          84     88  \n",
      "\n",
      "5 5\n",
      "\n",
      "(10, 12)\n",
      "                  datetime  season  holiday  workingday  weather   temp  \\\n",
      "0      2011-01-01 00:00:00       1        0           0        1   9.84   \n",
      "1      2011-01-01 01:00:00       1        0           0        1   9.02   \n",
      "2      2011-01-01 02:00:00       1        0           0        1   9.02   \n",
      "3      2011-01-01 03:00:00       1        0           0        1   9.84   \n",
      "4      2011-01-01 04:00:00       1        0           0        1   9.84   \n",
      "10881  2012-12-19 19:00:00       4        0           1        1  15.58   \n",
      "10882  2012-12-19 20:00:00       4        0           1        1  14.76   \n",
      "10883  2012-12-19 21:00:00       4        0           1        1  13.94   \n",
      "10884  2012-12-19 22:00:00       4        0           1        1  13.94   \n",
      "10885  2012-12-19 23:00:00       4        0           1        1  13.12   \n",
      "\n",
      "        atemp  humidity  windspeed  casual  registered  count  \n",
      "0      14.395        81     0.0000       3          13     16  \n",
      "1      13.635        80     0.0000       8          32     40  \n",
      "2      13.635        80     0.0000       5          27     32  \n",
      "3      14.395        75     0.0000       3          10     13  \n",
      "4      14.395        75     0.0000       0           1      1  \n",
      "10881  19.695        50    26.0027       7         329    336  \n",
      "10882  17.425        57    15.0013      10         231    241  \n",
      "10883  15.910        61    15.0013       4         164    168  \n",
      "10884  17.425        61     6.0032      12         117    129  \n",
      "10885  16.665        66     8.9981       4          84     88  \n",
      "\n",
      "              datetime  season  holiday  workingday weather  temp   atemp  \\\n",
      "0  2011-01-01 00:00:00       1        0           0       1  9.84  14.395   \n",
      "1  2011-01-01 01:00:00       1        0           0       1  9.02  13.635   \n",
      "2  2011-01-01 02:00:00       1        0           0       1  9.02  13.635   \n",
      "3  2011-01-01 03:00:00       1        0           0       1  9.84  14.395   \n",
      "4  2011-01-01 04:00:00       1        0           0       1  9.84  14.395   \n",
      "\n",
      "   humidity  windspeed  casual  ...  holiday  workingday weather   temp  \\\n",
      "0        81        0.0       3  ...        0           1       1  15.58   \n",
      "1        80        0.0       8  ...        0           1       1  14.76   \n",
      "2        80        0.0       5  ...        0           1       1  13.94   \n",
      "3        75        0.0       3  ...        0           1       1  13.94   \n",
      "4        75        0.0       0  ...        0           1       1  13.12   \n",
      "\n",
      "    atemp  humidity  windspeed  casual  registered  count  \n",
      "0  19.695        50    26.0027       7         329    336  \n",
      "1  17.425        57    15.0013      10         231    241  \n",
      "2  15.910        61    15.0013       4         164    168  \n",
      "3  17.425        61     6.0032      12         117    129  \n",
      "4  16.665        66     8.9981       4          84     88  \n",
      "\n",
      "[5 rows x 24 columns]\n"
     ]
    }
   ],
   "source": [
    "df = pd.read_csv(\"data/bike.csv\")\n",
    "df_1 = df.head()\n",
    "df_2 = df.tail()\n",
    "\n",
    "print(df_1)\n",
    "print()\n",
    "print(df_2)\n",
    "print()\n",
    "print(len(df_1), len(df_2))\n",
    "print()\n",
    "\n",
    "df_bind = pd.concat([df_1, df_2])\n",
    "print(df_bind.shape)\n",
    "print(df_bind)\n",
    "print()\n",
    "\n",
    "print(pd.concat([df_1, df_2.reset_index(drop=True)], axis='columns'))"
   ]
  },
  {
   "cell_type": "code",
   "execution_count": 1,
   "metadata": {},
   "outputs": [
    {
     "data": {
      "text/plain": [
       "dict"
      ]
     },
     "execution_count": 1,
     "metadata": {},
     "output_type": "execute_result"
    }
   ],
   "source": []
  }
 ],
 "metadata": {
  "kernelspec": {
   "display_name": "venvPy3",
   "language": "python",
   "name": "venvpy3"
  },
  "language_info": {
   "codemirror_mode": {
    "name": "ipython",
    "version": 3
   },
   "file_extension": ".py",
   "mimetype": "text/x-python",
   "name": "python",
   "nbconvert_exporter": "python",
   "pygments_lexer": "ipython3",
   "version": "3.6.8"
  }
 },
 "nbformat": 4,
 "nbformat_minor": 4
}
